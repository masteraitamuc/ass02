{
 "cells": [
  {
   "cell_type": "markdown",
   "metadata": {},
   "source": [
    "# Assignment 02: Scikit Learn Basic Regression and Classification\n",
    "---\n",
    "\n",
    "**Due Date:** Friday 02/07/2025 (by 5pm)"
   ]
  },
  {
   "cell_type": "markdown",
   "metadata": {},
   "source": [
    "**Please fill these in before submitting, just in case I accidentally mix up file names while grading**:\n",
    "\n",
    "Name: Jane Student\n",
    "\n",
    "CWID-5: (Last 5 digits of cwid)"
   ]
  },
  {
   "cell_type": "markdown",
   "metadata": {},
   "source": [
    "## Introduction\n",
    "--------\n",
    "\n",
    "In this assignment you will be performing a regression and classification task using the `scikit-learn` machine learning framework, and the Python `statsmodel` library.\n",
    "You should work through the tutorial on using `scikit-learn` and `statsmodel` before doing this assignment, as well as work on the materials from our units\n",
    "on regression and classification tasks.\n",
    "\n",
    "For the first part of this assignment, I recommend looking through the following tutorials on using\n",
    "Scikit Learn and the statsmodel library for linear regression:\n",
    "\n",
    "[A Beginners guide to Linear Regression in Python with Scikit-Learn](https://medium.com/analytics-vidhya/a-beginners-guide-to-linear-regression-in-python-with-scikit-learn-6b0fe70b32d7)\n",
    "\n",
    "\n",
    "[Simple Linear Regression with statsmodel Library](https://www.sfu.ca/~mjbrydon/tutorials/BAinPy/09_regression.html)\n",
    "\n",
    "I am using this material as a reference when developing the work and questions for Task 1 below."
   ]
  },
  {
   "cell_type": "code",
   "execution_count": 2,
   "metadata": {},
   "outputs": [],
   "source": [
    "# The following ipython magic will reload changed file/modules.\n",
    "# So when editing function in source code modules, you should\n",
    "# be able to just rerun the cell, not restart the whole kernel.\n",
    "%load_ext autoreload\n",
    "%autoreload 2"
   ]
  },
  {
   "cell_type": "code",
   "execution_count": 3,
   "metadata": {},
   "outputs": [],
   "source": [
    "# all imports that you use for this assignment should be placed in these next 2\n",
    "# cells.  If you need to import a whole module put it here, or if importing a\n",
    "# specific class or function from a module, put in the next cell.\n",
    "import numpy as np\n",
    "import matplotlib.pyplot as plt\n",
    "import pandas as pd\n",
    "import seaborn as sns"
   ]
  },
  {
   "cell_type": "code",
   "execution_count": 4,
   "metadata": {
    "ExecuteTime": {
     "end_time": "2019-09-30T18:55:15.339855Z",
     "start_time": "2019-09-30T18:55:14.517211Z"
    }
   },
   "outputs": [],
   "source": [
    "# By convention, we often just import the specific classes/functions in notebooks\n",
    "# from scikit-learn we will need to train a model and perform prediction.\n",
    "# Here we include some of the classes and functions you should need for this\n",
    "# assignment from the sklearn library, but there could be other methods you might\n",
    "# want to try or would be useful to the way you approach the problem, so feel free\n",
    "# to import others you might need or want to try from sklearn\n",
    "from sklearn.linear_model import LinearRegression\n",
    "from sklearn.linear_model import LogisticRegression\n",
    "from sklearn.metrics import mean_squared_error\n",
    "from sklearn.metrics import r2_score\n",
    "from sklearn.metrics import accuracy_score\n",
    "from sklearn.metrics import confusion_matrix\n",
    "from sklearn.preprocessing import OrdinalEncoder\n",
    "from sklearn.impute import SimpleImputer\n",
    "from sklearn.model_selection import cross_val_score\n",
    "\n",
    "# statsmodels has an api, it is often imported as sm by convention\n",
    "import statsmodels.api as sm"
   ]
  },
  {
   "cell_type": "code",
   "execution_count": 5,
   "metadata": {},
   "outputs": [],
   "source": [
    "# Import functions/moduls from this project.  We manually set the\n",
    "# PYTHONPATH to append the location to search for this assignments\n",
    "# functions to just ensure the imports are found\n",
    "import sys\n",
    "sys.path.append(\"../src\")\n",
    "\n",
    "# assignment function imports for unittests and github autograding\n",
    "# these are required for assignment autograding\n",
    "from assg_utils import run_unittests, run_doctests\n",
    "from assg_tasks import task1_sklearn_linear_regression, task1_statsmodel_linear_regression\n",
    "from assg_tasks import task2_label_encoding, task2_impute_missing_data\n",
    "from assg_tasks import task2_sklearn_logistic_regression, task2_statsmodel_logistic_regression"
   ]
  },
  {
   "cell_type": "code",
   "execution_count": 6,
   "metadata": {
    "ExecuteTime": {
     "end_time": "2019-09-30T18:55:15.345630Z",
     "start_time": "2019-09-30T18:55:15.341203Z"
    }
   },
   "outputs": [],
   "source": [
    "# set default figure size, 8in by 6in and figure properties here for this notebook,\n",
    "# please don't change these in final submission of your work\n",
    "#%matplotlib notebook\n",
    "plt.rcParams['figure.figsize'] = (10, 8) "
   ]
  },
  {
   "cell_type": "markdown",
   "metadata": {},
   "source": [
    "# Task 1: Linear Regression with One Variable\n",
    "--------\n"
   ]
  },
  {
   "cell_type": "markdown",
   "metadata": {},
   "source": [
    "## Load and Explore Data\n",
    "\n",
    "There is a file named `assg-02-weather.csv` in the data subdirectory.  Load this file into a\n",
    "pandas dataframe in the next cell (don't forgot to always use relative path names when working\n",
    "in projects).  There are places in the assignment that assume this full dataframe is named\n",
    "`df`, so use that as the name of the loaded dataframe.\n",
    "\n",
    "Remove the stub df from this line."
   ]
  },
  {
   "cell_type": "code",
   "execution_count": 8,
   "metadata": {},
   "outputs": [
    {
     "data": {
      "text/html": [
       "<div>\n",
       "<style scoped>\n",
       "    .dataframe tbody tr th:only-of-type {\n",
       "        vertical-align: middle;\n",
       "    }\n",
       "\n",
       "    .dataframe tbody tr th {\n",
       "        vertical-align: top;\n",
       "    }\n",
       "\n",
       "    .dataframe thead th {\n",
       "        text-align: right;\n",
       "    }\n",
       "</style>\n",
       "<table border=\"1\" class=\"dataframe\">\n",
       "  <thead>\n",
       "    <tr style=\"text-align: right;\">\n",
       "      <th></th>\n",
       "      <th>MinTemp</th>\n",
       "      <th>MaxTemp</th>\n",
       "      <th>Rainfall</th>\n",
       "      <th>Evaporation</th>\n",
       "      <th>Sunshine</th>\n",
       "      <th>WindGustDir</th>\n",
       "      <th>WindGustSpeed</th>\n",
       "      <th>WindDir9am</th>\n",
       "      <th>WindDir3pm</th>\n",
       "      <th>WindSpeed9am</th>\n",
       "      <th>...</th>\n",
       "      <th>Humidity3pm</th>\n",
       "      <th>Pressure9am</th>\n",
       "      <th>Pressure3pm</th>\n",
       "      <th>Cloud9am</th>\n",
       "      <th>Cloud3pm</th>\n",
       "      <th>Temp9am</th>\n",
       "      <th>Temp3pm</th>\n",
       "      <th>RainToday</th>\n",
       "      <th>RISK_MM</th>\n",
       "      <th>RainTomorrow</th>\n",
       "    </tr>\n",
       "  </thead>\n",
       "  <tbody>\n",
       "    <tr>\n",
       "      <th>0</th>\n",
       "      <td>8.0</td>\n",
       "      <td>24.3</td>\n",
       "      <td>0.0</td>\n",
       "      <td>3.4</td>\n",
       "      <td>6.3</td>\n",
       "      <td>NW</td>\n",
       "      <td>30.0</td>\n",
       "      <td>SW</td>\n",
       "      <td>NW</td>\n",
       "      <td>6.0</td>\n",
       "      <td>...</td>\n",
       "      <td>29</td>\n",
       "      <td>1019.7</td>\n",
       "      <td>1015.0</td>\n",
       "      <td>7</td>\n",
       "      <td>7</td>\n",
       "      <td>14.4</td>\n",
       "      <td>23.6</td>\n",
       "      <td>No</td>\n",
       "      <td>3.6</td>\n",
       "      <td>Yes</td>\n",
       "    </tr>\n",
       "    <tr>\n",
       "      <th>1</th>\n",
       "      <td>14.0</td>\n",
       "      <td>26.9</td>\n",
       "      <td>3.6</td>\n",
       "      <td>4.4</td>\n",
       "      <td>9.7</td>\n",
       "      <td>ENE</td>\n",
       "      <td>39.0</td>\n",
       "      <td>E</td>\n",
       "      <td>W</td>\n",
       "      <td>4.0</td>\n",
       "      <td>...</td>\n",
       "      <td>36</td>\n",
       "      <td>1012.4</td>\n",
       "      <td>1008.4</td>\n",
       "      <td>5</td>\n",
       "      <td>3</td>\n",
       "      <td>17.5</td>\n",
       "      <td>25.7</td>\n",
       "      <td>Yes</td>\n",
       "      <td>3.6</td>\n",
       "      <td>Yes</td>\n",
       "    </tr>\n",
       "    <tr>\n",
       "      <th>2</th>\n",
       "      <td>13.7</td>\n",
       "      <td>23.4</td>\n",
       "      <td>3.6</td>\n",
       "      <td>5.8</td>\n",
       "      <td>3.3</td>\n",
       "      <td>NW</td>\n",
       "      <td>85.0</td>\n",
       "      <td>N</td>\n",
       "      <td>NNE</td>\n",
       "      <td>6.0</td>\n",
       "      <td>...</td>\n",
       "      <td>69</td>\n",
       "      <td>1009.5</td>\n",
       "      <td>1007.2</td>\n",
       "      <td>8</td>\n",
       "      <td>7</td>\n",
       "      <td>15.4</td>\n",
       "      <td>20.2</td>\n",
       "      <td>Yes</td>\n",
       "      <td>39.8</td>\n",
       "      <td>Yes</td>\n",
       "    </tr>\n",
       "    <tr>\n",
       "      <th>3</th>\n",
       "      <td>13.3</td>\n",
       "      <td>15.5</td>\n",
       "      <td>39.8</td>\n",
       "      <td>7.2</td>\n",
       "      <td>9.1</td>\n",
       "      <td>NW</td>\n",
       "      <td>54.0</td>\n",
       "      <td>WNW</td>\n",
       "      <td>W</td>\n",
       "      <td>30.0</td>\n",
       "      <td>...</td>\n",
       "      <td>56</td>\n",
       "      <td>1005.5</td>\n",
       "      <td>1007.0</td>\n",
       "      <td>2</td>\n",
       "      <td>7</td>\n",
       "      <td>13.5</td>\n",
       "      <td>14.1</td>\n",
       "      <td>Yes</td>\n",
       "      <td>2.8</td>\n",
       "      <td>Yes</td>\n",
       "    </tr>\n",
       "    <tr>\n",
       "      <th>4</th>\n",
       "      <td>7.6</td>\n",
       "      <td>16.1</td>\n",
       "      <td>2.8</td>\n",
       "      <td>5.6</td>\n",
       "      <td>10.6</td>\n",
       "      <td>SSE</td>\n",
       "      <td>50.0</td>\n",
       "      <td>SSE</td>\n",
       "      <td>ESE</td>\n",
       "      <td>20.0</td>\n",
       "      <td>...</td>\n",
       "      <td>49</td>\n",
       "      <td>1018.3</td>\n",
       "      <td>1018.5</td>\n",
       "      <td>7</td>\n",
       "      <td>7</td>\n",
       "      <td>11.1</td>\n",
       "      <td>15.4</td>\n",
       "      <td>Yes</td>\n",
       "      <td>0.0</td>\n",
       "      <td>No</td>\n",
       "    </tr>\n",
       "    <tr>\n",
       "      <th>...</th>\n",
       "      <td>...</td>\n",
       "      <td>...</td>\n",
       "      <td>...</td>\n",
       "      <td>...</td>\n",
       "      <td>...</td>\n",
       "      <td>...</td>\n",
       "      <td>...</td>\n",
       "      <td>...</td>\n",
       "      <td>...</td>\n",
       "      <td>...</td>\n",
       "      <td>...</td>\n",
       "      <td>...</td>\n",
       "      <td>...</td>\n",
       "      <td>...</td>\n",
       "      <td>...</td>\n",
       "      <td>...</td>\n",
       "      <td>...</td>\n",
       "      <td>...</td>\n",
       "      <td>...</td>\n",
       "      <td>...</td>\n",
       "      <td>...</td>\n",
       "    </tr>\n",
       "    <tr>\n",
       "      <th>361</th>\n",
       "      <td>9.0</td>\n",
       "      <td>30.7</td>\n",
       "      <td>0.0</td>\n",
       "      <td>7.6</td>\n",
       "      <td>12.1</td>\n",
       "      <td>NNW</td>\n",
       "      <td>76.0</td>\n",
       "      <td>SSE</td>\n",
       "      <td>NW</td>\n",
       "      <td>7.0</td>\n",
       "      <td>...</td>\n",
       "      <td>15</td>\n",
       "      <td>1016.1</td>\n",
       "      <td>1010.8</td>\n",
       "      <td>1</td>\n",
       "      <td>3</td>\n",
       "      <td>20.4</td>\n",
       "      <td>30.0</td>\n",
       "      <td>No</td>\n",
       "      <td>0.0</td>\n",
       "      <td>No</td>\n",
       "    </tr>\n",
       "    <tr>\n",
       "      <th>362</th>\n",
       "      <td>7.1</td>\n",
       "      <td>28.4</td>\n",
       "      <td>0.0</td>\n",
       "      <td>11.6</td>\n",
       "      <td>12.7</td>\n",
       "      <td>N</td>\n",
       "      <td>48.0</td>\n",
       "      <td>NNW</td>\n",
       "      <td>NNW</td>\n",
       "      <td>2.0</td>\n",
       "      <td>...</td>\n",
       "      <td>22</td>\n",
       "      <td>1020.0</td>\n",
       "      <td>1016.9</td>\n",
       "      <td>0</td>\n",
       "      <td>1</td>\n",
       "      <td>17.2</td>\n",
       "      <td>28.2</td>\n",
       "      <td>No</td>\n",
       "      <td>0.0</td>\n",
       "      <td>No</td>\n",
       "    </tr>\n",
       "    <tr>\n",
       "      <th>363</th>\n",
       "      <td>12.5</td>\n",
       "      <td>19.9</td>\n",
       "      <td>0.0</td>\n",
       "      <td>8.4</td>\n",
       "      <td>5.3</td>\n",
       "      <td>ESE</td>\n",
       "      <td>43.0</td>\n",
       "      <td>ENE</td>\n",
       "      <td>ENE</td>\n",
       "      <td>11.0</td>\n",
       "      <td>...</td>\n",
       "      <td>47</td>\n",
       "      <td>1024.0</td>\n",
       "      <td>1022.8</td>\n",
       "      <td>3</td>\n",
       "      <td>2</td>\n",
       "      <td>14.5</td>\n",
       "      <td>18.3</td>\n",
       "      <td>No</td>\n",
       "      <td>0.0</td>\n",
       "      <td>No</td>\n",
       "    </tr>\n",
       "    <tr>\n",
       "      <th>364</th>\n",
       "      <td>12.5</td>\n",
       "      <td>26.9</td>\n",
       "      <td>0.0</td>\n",
       "      <td>5.0</td>\n",
       "      <td>7.1</td>\n",
       "      <td>NW</td>\n",
       "      <td>46.0</td>\n",
       "      <td>SSW</td>\n",
       "      <td>WNW</td>\n",
       "      <td>6.0</td>\n",
       "      <td>...</td>\n",
       "      <td>39</td>\n",
       "      <td>1021.0</td>\n",
       "      <td>1016.2</td>\n",
       "      <td>6</td>\n",
       "      <td>7</td>\n",
       "      <td>15.8</td>\n",
       "      <td>25.9</td>\n",
       "      <td>No</td>\n",
       "      <td>0.0</td>\n",
       "      <td>No</td>\n",
       "    </tr>\n",
       "    <tr>\n",
       "      <th>365</th>\n",
       "      <td>12.3</td>\n",
       "      <td>30.2</td>\n",
       "      <td>0.0</td>\n",
       "      <td>6.0</td>\n",
       "      <td>12.6</td>\n",
       "      <td>NW</td>\n",
       "      <td>78.0</td>\n",
       "      <td>NW</td>\n",
       "      <td>WNW</td>\n",
       "      <td>31.0</td>\n",
       "      <td>...</td>\n",
       "      <td>13</td>\n",
       "      <td>1009.6</td>\n",
       "      <td>1009.2</td>\n",
       "      <td>1</td>\n",
       "      <td>1</td>\n",
       "      <td>23.8</td>\n",
       "      <td>28.6</td>\n",
       "      <td>No</td>\n",
       "      <td>0.0</td>\n",
       "      <td>No</td>\n",
       "    </tr>\n",
       "  </tbody>\n",
       "</table>\n",
       "<p>366 rows × 22 columns</p>\n",
       "</div>"
      ],
      "text/plain": [
       "     MinTemp  MaxTemp  Rainfall  Evaporation  Sunshine WindGustDir  \\\n",
       "0        8.0     24.3       0.0          3.4       6.3          NW   \n",
       "1       14.0     26.9       3.6          4.4       9.7         ENE   \n",
       "2       13.7     23.4       3.6          5.8       3.3          NW   \n",
       "3       13.3     15.5      39.8          7.2       9.1          NW   \n",
       "4        7.6     16.1       2.8          5.6      10.6         SSE   \n",
       "..       ...      ...       ...          ...       ...         ...   \n",
       "361      9.0     30.7       0.0          7.6      12.1         NNW   \n",
       "362      7.1     28.4       0.0         11.6      12.7           N   \n",
       "363     12.5     19.9       0.0          8.4       5.3         ESE   \n",
       "364     12.5     26.9       0.0          5.0       7.1          NW   \n",
       "365     12.3     30.2       0.0          6.0      12.6          NW   \n",
       "\n",
       "     WindGustSpeed WindDir9am WindDir3pm  WindSpeed9am  ...  Humidity3pm  \\\n",
       "0             30.0         SW         NW           6.0  ...           29   \n",
       "1             39.0          E          W           4.0  ...           36   \n",
       "2             85.0          N        NNE           6.0  ...           69   \n",
       "3             54.0        WNW          W          30.0  ...           56   \n",
       "4             50.0        SSE        ESE          20.0  ...           49   \n",
       "..             ...        ...        ...           ...  ...          ...   \n",
       "361           76.0        SSE         NW           7.0  ...           15   \n",
       "362           48.0        NNW        NNW           2.0  ...           22   \n",
       "363           43.0        ENE        ENE          11.0  ...           47   \n",
       "364           46.0        SSW        WNW           6.0  ...           39   \n",
       "365           78.0         NW        WNW          31.0  ...           13   \n",
       "\n",
       "     Pressure9am  Pressure3pm  Cloud9am  Cloud3pm  Temp9am  Temp3pm  \\\n",
       "0         1019.7       1015.0         7         7     14.4     23.6   \n",
       "1         1012.4       1008.4         5         3     17.5     25.7   \n",
       "2         1009.5       1007.2         8         7     15.4     20.2   \n",
       "3         1005.5       1007.0         2         7     13.5     14.1   \n",
       "4         1018.3       1018.5         7         7     11.1     15.4   \n",
       "..           ...          ...       ...       ...      ...      ...   \n",
       "361       1016.1       1010.8         1         3     20.4     30.0   \n",
       "362       1020.0       1016.9         0         1     17.2     28.2   \n",
       "363       1024.0       1022.8         3         2     14.5     18.3   \n",
       "364       1021.0       1016.2         6         7     15.8     25.9   \n",
       "365       1009.6       1009.2         1         1     23.8     28.6   \n",
       "\n",
       "     RainToday  RISK_MM RainTomorrow  \n",
       "0           No      3.6          Yes  \n",
       "1          Yes      3.6          Yes  \n",
       "2          Yes     39.8          Yes  \n",
       "3          Yes      2.8          Yes  \n",
       "4          Yes      0.0           No  \n",
       "..         ...      ...          ...  \n",
       "361         No      0.0           No  \n",
       "362         No      0.0           No  \n",
       "363         No      0.0           No  \n",
       "364         No      0.0           No  \n",
       "365         No      0.0           No  \n",
       "\n",
       "[366 rows x 22 columns]"
      ]
     },
     "execution_count": 8,
     "metadata": {},
     "output_type": "execute_result"
    }
   ],
   "source": [
    "# load file into a dataframe here, remove the stub dataframe from here\n",
    "data = pd.read_csv('../data/assg-02-weather.csv')\n",
    "df = pd.DataFrame(data)\n",
    "df"
   ]
  },
  {
   "cell_type": "markdown",
   "metadata": {},
   "source": [
    "Then do some basic data exploration on this dataframe, as we have discussed and shown in class.  Perform the following tasks:\n",
    "\n",
    "1. Determine the number of samples in this data set.  Determine the number of features as well.\n",
    "2. Display the types of the features that were read in and determined by default by Pandas in this dataframe.\n",
    "3. For the numeric data types, describe the basic information about the min, max and ranges of the numeric data\n",
    "4. Count the number of missing or NaN data in the dataframe (if any), show the counts of missing data for each of the features in the dataframe.\n",
    "5. It will be useful to know the feature to feature correlations.  Create and display a correlation matrix of the numeric features\n",
    "   in this dataset.  You will need to extract into a temporary dataframe the numeric features to do this.  Visualizing the\n",
    "   correlations using a heatmap would be a good idea since there are quite a few of them."
   ]
  },
  {
   "cell_type": "code",
   "execution_count": 9,
   "metadata": {},
   "outputs": [
    {
     "data": {
      "text/plain": [
       "(366, 22)"
      ]
     },
     "execution_count": 9,
     "metadata": {},
     "output_type": "execute_result"
    }
   ],
   "source": [
    "# 1. determine number of samples and number of features here\n",
    "df.shape"
   ]
  },
  {
   "cell_type": "code",
   "execution_count": 10,
   "metadata": {},
   "outputs": [
    {
     "name": "stdout",
     "output_type": "stream",
     "text": [
      "<class 'pandas.core.frame.DataFrame'>\n",
      "RangeIndex: 366 entries, 0 to 365\n",
      "Data columns (total 22 columns):\n",
      " #   Column         Non-Null Count  Dtype  \n",
      "---  ------         --------------  -----  \n",
      " 0   MinTemp        366 non-null    float64\n",
      " 1   MaxTemp        366 non-null    float64\n",
      " 2   Rainfall       366 non-null    float64\n",
      " 3   Evaporation    366 non-null    float64\n",
      " 4   Sunshine       363 non-null    float64\n",
      " 5   WindGustDir    363 non-null    object \n",
      " 6   WindGustSpeed  364 non-null    float64\n",
      " 7   WindDir9am     335 non-null    object \n",
      " 8   WindDir3pm     365 non-null    object \n",
      " 9   WindSpeed9am   359 non-null    float64\n",
      " 10  WindSpeed3pm   366 non-null    int64  \n",
      " 11  Humidity9am    366 non-null    int64  \n",
      " 12  Humidity3pm    366 non-null    int64  \n",
      " 13  Pressure9am    366 non-null    float64\n",
      " 14  Pressure3pm    366 non-null    float64\n",
      " 15  Cloud9am       366 non-null    int64  \n",
      " 16  Cloud3pm       366 non-null    int64  \n",
      " 17  Temp9am        366 non-null    float64\n",
      " 18  Temp3pm        366 non-null    float64\n",
      " 19  RainToday      366 non-null    object \n",
      " 20  RISK_MM        366 non-null    float64\n",
      " 21  RainTomorrow   366 non-null    object \n",
      "dtypes: float64(12), int64(5), object(5)\n",
      "memory usage: 63.0+ KB\n"
     ]
    }
   ],
   "source": [
    "# 2. determine feature types\n",
    "df.info()"
   ]
  },
  {
   "cell_type": "code",
   "execution_count": 13,
   "metadata": {},
   "outputs": [
    {
     "data": {
      "text/html": [
       "<div>\n",
       "<style scoped>\n",
       "    .dataframe tbody tr th:only-of-type {\n",
       "        vertical-align: middle;\n",
       "    }\n",
       "\n",
       "    .dataframe tbody tr th {\n",
       "        vertical-align: top;\n",
       "    }\n",
       "\n",
       "    .dataframe thead th {\n",
       "        text-align: right;\n",
       "    }\n",
       "</style>\n",
       "<table border=\"1\" class=\"dataframe\">\n",
       "  <thead>\n",
       "    <tr style=\"text-align: right;\">\n",
       "      <th></th>\n",
       "      <th>MinTemp</th>\n",
       "      <th>MaxTemp</th>\n",
       "      <th>Rainfall</th>\n",
       "      <th>Evaporation</th>\n",
       "      <th>Sunshine</th>\n",
       "      <th>WindGustSpeed</th>\n",
       "      <th>WindSpeed9am</th>\n",
       "      <th>WindSpeed3pm</th>\n",
       "      <th>Humidity9am</th>\n",
       "      <th>Humidity3pm</th>\n",
       "      <th>Pressure9am</th>\n",
       "      <th>Pressure3pm</th>\n",
       "      <th>Cloud9am</th>\n",
       "      <th>Cloud3pm</th>\n",
       "      <th>Temp9am</th>\n",
       "      <th>Temp3pm</th>\n",
       "      <th>RISK_MM</th>\n",
       "    </tr>\n",
       "  </thead>\n",
       "  <tbody>\n",
       "    <tr>\n",
       "      <th>count</th>\n",
       "      <td>366.000000</td>\n",
       "      <td>366.000000</td>\n",
       "      <td>366.000000</td>\n",
       "      <td>366.000000</td>\n",
       "      <td>363.000000</td>\n",
       "      <td>364.000000</td>\n",
       "      <td>359.000000</td>\n",
       "      <td>366.000000</td>\n",
       "      <td>366.000000</td>\n",
       "      <td>366.000000</td>\n",
       "      <td>366.000000</td>\n",
       "      <td>366.000000</td>\n",
       "      <td>366.000000</td>\n",
       "      <td>366.000000</td>\n",
       "      <td>366.000000</td>\n",
       "      <td>366.000000</td>\n",
       "      <td>366.000000</td>\n",
       "    </tr>\n",
       "    <tr>\n",
       "      <th>mean</th>\n",
       "      <td>7.265574</td>\n",
       "      <td>20.550273</td>\n",
       "      <td>1.428415</td>\n",
       "      <td>4.521858</td>\n",
       "      <td>7.909366</td>\n",
       "      <td>39.840659</td>\n",
       "      <td>9.651811</td>\n",
       "      <td>17.986339</td>\n",
       "      <td>72.035519</td>\n",
       "      <td>44.519126</td>\n",
       "      <td>1019.709016</td>\n",
       "      <td>1016.810383</td>\n",
       "      <td>3.890710</td>\n",
       "      <td>4.024590</td>\n",
       "      <td>12.358470</td>\n",
       "      <td>19.230874</td>\n",
       "      <td>1.428415</td>\n",
       "    </tr>\n",
       "    <tr>\n",
       "      <th>std</th>\n",
       "      <td>6.025800</td>\n",
       "      <td>6.690516</td>\n",
       "      <td>4.225800</td>\n",
       "      <td>2.669383</td>\n",
       "      <td>3.481517</td>\n",
       "      <td>13.059807</td>\n",
       "      <td>7.951929</td>\n",
       "      <td>8.856997</td>\n",
       "      <td>13.137058</td>\n",
       "      <td>16.850947</td>\n",
       "      <td>6.686212</td>\n",
       "      <td>6.469422</td>\n",
       "      <td>2.956131</td>\n",
       "      <td>2.666268</td>\n",
       "      <td>5.630832</td>\n",
       "      <td>6.640346</td>\n",
       "      <td>4.225800</td>\n",
       "    </tr>\n",
       "    <tr>\n",
       "      <th>min</th>\n",
       "      <td>-5.300000</td>\n",
       "      <td>7.600000</td>\n",
       "      <td>0.000000</td>\n",
       "      <td>0.200000</td>\n",
       "      <td>0.000000</td>\n",
       "      <td>13.000000</td>\n",
       "      <td>0.000000</td>\n",
       "      <td>0.000000</td>\n",
       "      <td>36.000000</td>\n",
       "      <td>13.000000</td>\n",
       "      <td>996.500000</td>\n",
       "      <td>996.800000</td>\n",
       "      <td>0.000000</td>\n",
       "      <td>0.000000</td>\n",
       "      <td>0.100000</td>\n",
       "      <td>5.100000</td>\n",
       "      <td>0.000000</td>\n",
       "    </tr>\n",
       "    <tr>\n",
       "      <th>25%</th>\n",
       "      <td>2.300000</td>\n",
       "      <td>15.025000</td>\n",
       "      <td>0.000000</td>\n",
       "      <td>2.200000</td>\n",
       "      <td>5.950000</td>\n",
       "      <td>31.000000</td>\n",
       "      <td>6.000000</td>\n",
       "      <td>11.000000</td>\n",
       "      <td>64.000000</td>\n",
       "      <td>32.250000</td>\n",
       "      <td>1015.350000</td>\n",
       "      <td>1012.800000</td>\n",
       "      <td>1.000000</td>\n",
       "      <td>1.000000</td>\n",
       "      <td>7.625000</td>\n",
       "      <td>14.150000</td>\n",
       "      <td>0.000000</td>\n",
       "    </tr>\n",
       "    <tr>\n",
       "      <th>50%</th>\n",
       "      <td>7.450000</td>\n",
       "      <td>19.650000</td>\n",
       "      <td>0.000000</td>\n",
       "      <td>4.200000</td>\n",
       "      <td>8.600000</td>\n",
       "      <td>39.000000</td>\n",
       "      <td>7.000000</td>\n",
       "      <td>17.000000</td>\n",
       "      <td>72.000000</td>\n",
       "      <td>43.000000</td>\n",
       "      <td>1020.150000</td>\n",
       "      <td>1017.400000</td>\n",
       "      <td>3.500000</td>\n",
       "      <td>4.000000</td>\n",
       "      <td>12.550000</td>\n",
       "      <td>18.550000</td>\n",
       "      <td>0.000000</td>\n",
       "    </tr>\n",
       "    <tr>\n",
       "      <th>75%</th>\n",
       "      <td>12.500000</td>\n",
       "      <td>25.500000</td>\n",
       "      <td>0.200000</td>\n",
       "      <td>6.400000</td>\n",
       "      <td>10.500000</td>\n",
       "      <td>46.000000</td>\n",
       "      <td>13.000000</td>\n",
       "      <td>24.000000</td>\n",
       "      <td>81.000000</td>\n",
       "      <td>55.000000</td>\n",
       "      <td>1024.475000</td>\n",
       "      <td>1021.475000</td>\n",
       "      <td>7.000000</td>\n",
       "      <td>7.000000</td>\n",
       "      <td>17.000000</td>\n",
       "      <td>24.000000</td>\n",
       "      <td>0.200000</td>\n",
       "    </tr>\n",
       "    <tr>\n",
       "      <th>max</th>\n",
       "      <td>20.900000</td>\n",
       "      <td>35.800000</td>\n",
       "      <td>39.800000</td>\n",
       "      <td>13.800000</td>\n",
       "      <td>13.600000</td>\n",
       "      <td>98.000000</td>\n",
       "      <td>41.000000</td>\n",
       "      <td>52.000000</td>\n",
       "      <td>99.000000</td>\n",
       "      <td>96.000000</td>\n",
       "      <td>1035.700000</td>\n",
       "      <td>1033.200000</td>\n",
       "      <td>8.000000</td>\n",
       "      <td>8.000000</td>\n",
       "      <td>24.700000</td>\n",
       "      <td>34.500000</td>\n",
       "      <td>39.800000</td>\n",
       "    </tr>\n",
       "  </tbody>\n",
       "</table>\n",
       "</div>"
      ],
      "text/plain": [
       "          MinTemp     MaxTemp    Rainfall  Evaporation    Sunshine  \\\n",
       "count  366.000000  366.000000  366.000000   366.000000  363.000000   \n",
       "mean     7.265574   20.550273    1.428415     4.521858    7.909366   \n",
       "std      6.025800    6.690516    4.225800     2.669383    3.481517   \n",
       "min     -5.300000    7.600000    0.000000     0.200000    0.000000   \n",
       "25%      2.300000   15.025000    0.000000     2.200000    5.950000   \n",
       "50%      7.450000   19.650000    0.000000     4.200000    8.600000   \n",
       "75%     12.500000   25.500000    0.200000     6.400000   10.500000   \n",
       "max     20.900000   35.800000   39.800000    13.800000   13.600000   \n",
       "\n",
       "       WindGustSpeed  WindSpeed9am  WindSpeed3pm  Humidity9am  Humidity3pm  \\\n",
       "count     364.000000    359.000000    366.000000   366.000000   366.000000   \n",
       "mean       39.840659      9.651811     17.986339    72.035519    44.519126   \n",
       "std        13.059807      7.951929      8.856997    13.137058    16.850947   \n",
       "min        13.000000      0.000000      0.000000    36.000000    13.000000   \n",
       "25%        31.000000      6.000000     11.000000    64.000000    32.250000   \n",
       "50%        39.000000      7.000000     17.000000    72.000000    43.000000   \n",
       "75%        46.000000     13.000000     24.000000    81.000000    55.000000   \n",
       "max        98.000000     41.000000     52.000000    99.000000    96.000000   \n",
       "\n",
       "       Pressure9am  Pressure3pm    Cloud9am    Cloud3pm     Temp9am  \\\n",
       "count   366.000000   366.000000  366.000000  366.000000  366.000000   \n",
       "mean   1019.709016  1016.810383    3.890710    4.024590   12.358470   \n",
       "std       6.686212     6.469422    2.956131    2.666268    5.630832   \n",
       "min     996.500000   996.800000    0.000000    0.000000    0.100000   \n",
       "25%    1015.350000  1012.800000    1.000000    1.000000    7.625000   \n",
       "50%    1020.150000  1017.400000    3.500000    4.000000   12.550000   \n",
       "75%    1024.475000  1021.475000    7.000000    7.000000   17.000000   \n",
       "max    1035.700000  1033.200000    8.000000    8.000000   24.700000   \n",
       "\n",
       "          Temp3pm     RISK_MM  \n",
       "count  366.000000  366.000000  \n",
       "mean    19.230874    1.428415  \n",
       "std      6.640346    4.225800  \n",
       "min      5.100000    0.000000  \n",
       "25%     14.150000    0.000000  \n",
       "50%     18.550000    0.000000  \n",
       "75%     24.000000    0.200000  \n",
       "max     34.500000   39.800000  "
      ]
     },
     "execution_count": 13,
     "metadata": {},
     "output_type": "execute_result"
    }
   ],
   "source": [
    "# 3. display basic information about the range of numeric features in the data \n",
    "df.describe()"
   ]
  },
  {
   "cell_type": "code",
   "execution_count": 15,
   "metadata": {},
   "outputs": [
    {
     "data": {
      "text/plain": [
       "MinTemp           0\n",
       "MaxTemp           0\n",
       "Rainfall          0\n",
       "Evaporation       0\n",
       "Sunshine          3\n",
       "WindGustDir       3\n",
       "WindGustSpeed     2\n",
       "WindDir9am       31\n",
       "WindDir3pm        1\n",
       "WindSpeed9am      7\n",
       "WindSpeed3pm      0\n",
       "Humidity9am       0\n",
       "Humidity3pm       0\n",
       "Pressure9am       0\n",
       "Pressure3pm       0\n",
       "Cloud9am          0\n",
       "Cloud3pm          0\n",
       "Temp9am           0\n",
       "Temp3pm           0\n",
       "RainToday         0\n",
       "RISK_MM           0\n",
       "RainTomorrow      0\n",
       "dtype: int64"
      ]
     },
     "execution_count": 15,
     "metadata": {},
     "output_type": "execute_result"
    }
   ],
   "source": [
    "# 4. determine if there are any missing data in the dataset, show counts of missing data for each feature\n",
    "df.isnull().sum()"
   ]
  },
  {
   "cell_type": "code",
   "execution_count": 16,
   "metadata": {},
   "outputs": [
    {
     "data": {
      "text/plain": [
       "Index(['MinTemp', 'MaxTemp', 'Rainfall', 'Evaporation', 'Sunshine',\n",
       "       'WindGustDir', 'WindGustSpeed', 'WindDir9am', 'WindDir3pm',\n",
       "       'WindSpeed9am', 'WindSpeed3pm', 'Humidity9am', 'Humidity3pm',\n",
       "       'Pressure9am', 'Pressure3pm', 'Cloud9am', 'Cloud3pm', 'Temp9am',\n",
       "       'Temp3pm', 'RainToday', 'RISK_MM', 'RainTomorrow'],\n",
       "      dtype='object')"
      ]
     },
     "execution_count": 16,
     "metadata": {},
     "output_type": "execute_result"
    }
   ],
   "source": [
    "df.columns"
   ]
  },
  {
   "cell_type": "code",
   "execution_count": 17,
   "metadata": {},
   "outputs": [
    {
     "data": {
      "text/html": [
       "<div>\n",
       "<style scoped>\n",
       "    .dataframe tbody tr th:only-of-type {\n",
       "        vertical-align: middle;\n",
       "    }\n",
       "\n",
       "    .dataframe tbody tr th {\n",
       "        vertical-align: top;\n",
       "    }\n",
       "\n",
       "    .dataframe thead th {\n",
       "        text-align: right;\n",
       "    }\n",
       "</style>\n",
       "<table border=\"1\" class=\"dataframe\">\n",
       "  <thead>\n",
       "    <tr style=\"text-align: right;\">\n",
       "      <th></th>\n",
       "      <th>MinTemp</th>\n",
       "      <th>MaxTemp</th>\n",
       "      <th>Rainfall</th>\n",
       "      <th>Evaporation</th>\n",
       "      <th>Sunshine</th>\n",
       "      <th>WindGustSpeed</th>\n",
       "      <th>WindSpeed9am</th>\n",
       "      <th>WindSpeed3pm</th>\n",
       "      <th>Humidity9am</th>\n",
       "      <th>Humidity3pm</th>\n",
       "      <th>Pressure9am</th>\n",
       "      <th>Pressure3pm</th>\n",
       "      <th>Cloud9am</th>\n",
       "      <th>Cloud3pm</th>\n",
       "      <th>Temp9am</th>\n",
       "      <th>Temp3pm</th>\n",
       "      <th>RISK_MM</th>\n",
       "    </tr>\n",
       "  </thead>\n",
       "  <tbody>\n",
       "    <tr>\n",
       "      <th>0</th>\n",
       "      <td>8.0</td>\n",
       "      <td>24.3</td>\n",
       "      <td>0.0</td>\n",
       "      <td>3.4</td>\n",
       "      <td>6.3</td>\n",
       "      <td>30.0</td>\n",
       "      <td>6.0</td>\n",
       "      <td>20</td>\n",
       "      <td>68</td>\n",
       "      <td>29</td>\n",
       "      <td>1019.7</td>\n",
       "      <td>1015.0</td>\n",
       "      <td>7</td>\n",
       "      <td>7</td>\n",
       "      <td>14.4</td>\n",
       "      <td>23.6</td>\n",
       "      <td>3.6</td>\n",
       "    </tr>\n",
       "    <tr>\n",
       "      <th>1</th>\n",
       "      <td>14.0</td>\n",
       "      <td>26.9</td>\n",
       "      <td>3.6</td>\n",
       "      <td>4.4</td>\n",
       "      <td>9.7</td>\n",
       "      <td>39.0</td>\n",
       "      <td>4.0</td>\n",
       "      <td>17</td>\n",
       "      <td>80</td>\n",
       "      <td>36</td>\n",
       "      <td>1012.4</td>\n",
       "      <td>1008.4</td>\n",
       "      <td>5</td>\n",
       "      <td>3</td>\n",
       "      <td>17.5</td>\n",
       "      <td>25.7</td>\n",
       "      <td>3.6</td>\n",
       "    </tr>\n",
       "    <tr>\n",
       "      <th>2</th>\n",
       "      <td>13.7</td>\n",
       "      <td>23.4</td>\n",
       "      <td>3.6</td>\n",
       "      <td>5.8</td>\n",
       "      <td>3.3</td>\n",
       "      <td>85.0</td>\n",
       "      <td>6.0</td>\n",
       "      <td>6</td>\n",
       "      <td>82</td>\n",
       "      <td>69</td>\n",
       "      <td>1009.5</td>\n",
       "      <td>1007.2</td>\n",
       "      <td>8</td>\n",
       "      <td>7</td>\n",
       "      <td>15.4</td>\n",
       "      <td>20.2</td>\n",
       "      <td>39.8</td>\n",
       "    </tr>\n",
       "    <tr>\n",
       "      <th>3</th>\n",
       "      <td>13.3</td>\n",
       "      <td>15.5</td>\n",
       "      <td>39.8</td>\n",
       "      <td>7.2</td>\n",
       "      <td>9.1</td>\n",
       "      <td>54.0</td>\n",
       "      <td>30.0</td>\n",
       "      <td>24</td>\n",
       "      <td>62</td>\n",
       "      <td>56</td>\n",
       "      <td>1005.5</td>\n",
       "      <td>1007.0</td>\n",
       "      <td>2</td>\n",
       "      <td>7</td>\n",
       "      <td>13.5</td>\n",
       "      <td>14.1</td>\n",
       "      <td>2.8</td>\n",
       "    </tr>\n",
       "    <tr>\n",
       "      <th>4</th>\n",
       "      <td>7.6</td>\n",
       "      <td>16.1</td>\n",
       "      <td>2.8</td>\n",
       "      <td>5.6</td>\n",
       "      <td>10.6</td>\n",
       "      <td>50.0</td>\n",
       "      <td>20.0</td>\n",
       "      <td>28</td>\n",
       "      <td>68</td>\n",
       "      <td>49</td>\n",
       "      <td>1018.3</td>\n",
       "      <td>1018.5</td>\n",
       "      <td>7</td>\n",
       "      <td>7</td>\n",
       "      <td>11.1</td>\n",
       "      <td>15.4</td>\n",
       "      <td>0.0</td>\n",
       "    </tr>\n",
       "    <tr>\n",
       "      <th>...</th>\n",
       "      <td>...</td>\n",
       "      <td>...</td>\n",
       "      <td>...</td>\n",
       "      <td>...</td>\n",
       "      <td>...</td>\n",
       "      <td>...</td>\n",
       "      <td>...</td>\n",
       "      <td>...</td>\n",
       "      <td>...</td>\n",
       "      <td>...</td>\n",
       "      <td>...</td>\n",
       "      <td>...</td>\n",
       "      <td>...</td>\n",
       "      <td>...</td>\n",
       "      <td>...</td>\n",
       "      <td>...</td>\n",
       "      <td>...</td>\n",
       "    </tr>\n",
       "    <tr>\n",
       "      <th>361</th>\n",
       "      <td>9.0</td>\n",
       "      <td>30.7</td>\n",
       "      <td>0.0</td>\n",
       "      <td>7.6</td>\n",
       "      <td>12.1</td>\n",
       "      <td>76.0</td>\n",
       "      <td>7.0</td>\n",
       "      <td>50</td>\n",
       "      <td>38</td>\n",
       "      <td>15</td>\n",
       "      <td>1016.1</td>\n",
       "      <td>1010.8</td>\n",
       "      <td>1</td>\n",
       "      <td>3</td>\n",
       "      <td>20.4</td>\n",
       "      <td>30.0</td>\n",
       "      <td>0.0</td>\n",
       "    </tr>\n",
       "    <tr>\n",
       "      <th>362</th>\n",
       "      <td>7.1</td>\n",
       "      <td>28.4</td>\n",
       "      <td>0.0</td>\n",
       "      <td>11.6</td>\n",
       "      <td>12.7</td>\n",
       "      <td>48.0</td>\n",
       "      <td>2.0</td>\n",
       "      <td>19</td>\n",
       "      <td>45</td>\n",
       "      <td>22</td>\n",
       "      <td>1020.0</td>\n",
       "      <td>1016.9</td>\n",
       "      <td>0</td>\n",
       "      <td>1</td>\n",
       "      <td>17.2</td>\n",
       "      <td>28.2</td>\n",
       "      <td>0.0</td>\n",
       "    </tr>\n",
       "    <tr>\n",
       "      <th>363</th>\n",
       "      <td>12.5</td>\n",
       "      <td>19.9</td>\n",
       "      <td>0.0</td>\n",
       "      <td>8.4</td>\n",
       "      <td>5.3</td>\n",
       "      <td>43.0</td>\n",
       "      <td>11.0</td>\n",
       "      <td>9</td>\n",
       "      <td>63</td>\n",
       "      <td>47</td>\n",
       "      <td>1024.0</td>\n",
       "      <td>1022.8</td>\n",
       "      <td>3</td>\n",
       "      <td>2</td>\n",
       "      <td>14.5</td>\n",
       "      <td>18.3</td>\n",
       "      <td>0.0</td>\n",
       "    </tr>\n",
       "    <tr>\n",
       "      <th>364</th>\n",
       "      <td>12.5</td>\n",
       "      <td>26.9</td>\n",
       "      <td>0.0</td>\n",
       "      <td>5.0</td>\n",
       "      <td>7.1</td>\n",
       "      <td>46.0</td>\n",
       "      <td>6.0</td>\n",
       "      <td>28</td>\n",
       "      <td>69</td>\n",
       "      <td>39</td>\n",
       "      <td>1021.0</td>\n",
       "      <td>1016.2</td>\n",
       "      <td>6</td>\n",
       "      <td>7</td>\n",
       "      <td>15.8</td>\n",
       "      <td>25.9</td>\n",
       "      <td>0.0</td>\n",
       "    </tr>\n",
       "    <tr>\n",
       "      <th>365</th>\n",
       "      <td>12.3</td>\n",
       "      <td>30.2</td>\n",
       "      <td>0.0</td>\n",
       "      <td>6.0</td>\n",
       "      <td>12.6</td>\n",
       "      <td>78.0</td>\n",
       "      <td>31.0</td>\n",
       "      <td>35</td>\n",
       "      <td>43</td>\n",
       "      <td>13</td>\n",
       "      <td>1009.6</td>\n",
       "      <td>1009.2</td>\n",
       "      <td>1</td>\n",
       "      <td>1</td>\n",
       "      <td>23.8</td>\n",
       "      <td>28.6</td>\n",
       "      <td>0.0</td>\n",
       "    </tr>\n",
       "  </tbody>\n",
       "</table>\n",
       "<p>366 rows × 17 columns</p>\n",
       "</div>"
      ],
      "text/plain": [
       "     MinTemp  MaxTemp  Rainfall  Evaporation  Sunshine  WindGustSpeed  \\\n",
       "0        8.0     24.3       0.0          3.4       6.3           30.0   \n",
       "1       14.0     26.9       3.6          4.4       9.7           39.0   \n",
       "2       13.7     23.4       3.6          5.8       3.3           85.0   \n",
       "3       13.3     15.5      39.8          7.2       9.1           54.0   \n",
       "4        7.6     16.1       2.8          5.6      10.6           50.0   \n",
       "..       ...      ...       ...          ...       ...            ...   \n",
       "361      9.0     30.7       0.0          7.6      12.1           76.0   \n",
       "362      7.1     28.4       0.0         11.6      12.7           48.0   \n",
       "363     12.5     19.9       0.0          8.4       5.3           43.0   \n",
       "364     12.5     26.9       0.0          5.0       7.1           46.0   \n",
       "365     12.3     30.2       0.0          6.0      12.6           78.0   \n",
       "\n",
       "     WindSpeed9am  WindSpeed3pm  Humidity9am  Humidity3pm  Pressure9am  \\\n",
       "0             6.0            20           68           29       1019.7   \n",
       "1             4.0            17           80           36       1012.4   \n",
       "2             6.0             6           82           69       1009.5   \n",
       "3            30.0            24           62           56       1005.5   \n",
       "4            20.0            28           68           49       1018.3   \n",
       "..            ...           ...          ...          ...          ...   \n",
       "361           7.0            50           38           15       1016.1   \n",
       "362           2.0            19           45           22       1020.0   \n",
       "363          11.0             9           63           47       1024.0   \n",
       "364           6.0            28           69           39       1021.0   \n",
       "365          31.0            35           43           13       1009.6   \n",
       "\n",
       "     Pressure3pm  Cloud9am  Cloud3pm  Temp9am  Temp3pm  RISK_MM  \n",
       "0         1015.0         7         7     14.4     23.6      3.6  \n",
       "1         1008.4         5         3     17.5     25.7      3.6  \n",
       "2         1007.2         8         7     15.4     20.2     39.8  \n",
       "3         1007.0         2         7     13.5     14.1      2.8  \n",
       "4         1018.5         7         7     11.1     15.4      0.0  \n",
       "..           ...       ...       ...      ...      ...      ...  \n",
       "361       1010.8         1         3     20.4     30.0      0.0  \n",
       "362       1016.9         0         1     17.2     28.2      0.0  \n",
       "363       1022.8         3         2     14.5     18.3      0.0  \n",
       "364       1016.2         6         7     15.8     25.9      0.0  \n",
       "365       1009.2         1         1     23.8     28.6      0.0  \n",
       "\n",
       "[366 rows x 17 columns]"
      ]
     },
     "execution_count": 17,
     "metadata": {},
     "output_type": "execute_result"
    }
   ],
   "source": [
    "# 5. show feature-to-feature correlation of the numeric features we currently have in this data\n",
    "df_corr = df.drop(['WindGustDir','WindDir9am','WindDir3pm','RainToday','RainTomorrow'], axis='columns')\n",
    "df_corr"
   ]
  },
  {
   "cell_type": "markdown",
   "metadata": {},
   "source": [
    "## Visualize the Data\n",
    "\n",
    "You will next create a linear regression model of the relationship between the temperature and\n",
    "evaporation features of this data.  There are several temperature measurements in this dataset.  \n",
    "\n",
    "1. Using base matplotlib, create a scatter plot of the relationship between\n",
    "   the `Temp9am` and `Evaporation` recorded values.\n",
    "   The temperature should be the independent variable (x axis) and evaporation measurement the dependent\n",
    "   variable (y axis) in this plot.  Label your axis, you weren't given a data dictionary but\n",
    "   see if you can figure out the likely units used to record temperature and evaporation in this data\n",
    "   and label the axes accordingly.  "
   ]
  },
  {
   "cell_type": "code",
   "execution_count": 18,
   "metadata": {},
   "outputs": [
    {
     "data": {
      "image/png": "[encoded data removed]",
      "text/plain": [
       "<Figure size 1000x800 with 1 Axes>"
      ]
     },
     "metadata": {},
     "output_type": "display_data"
    }
   ],
   "source": [
    "# create the asked for visualization here.  Make sure you use a scatter plot and label your axis\n",
    "df.plot(kind='scatter', x='Temp9am', y='Evaporation', figsize=(10,8), alpha=0.5, color='blue');\n",
    "plt.xlabel('Temperature at 9 AM (°C)')\n",
    "plt.ylabel('Evaporation (mm)')\n",
    "plt.title('Scatter Plot of Temperature at 9 AM vs. Evaporation')\n",
    "plt.show()"
   ]
  },
  {
   "cell_type": "markdown",
   "metadata": {},
   "source": [
    "## Build and Evaluate a Scikit-learn LinearRegression Model\n",
    "\n",
    "You will first fit a linear regression model using the scikit-learn framework.\n",
    "\n",
    "Create a LinearRegression model and fit all of the 9am temperature data (independent variable) to try and\n",
    "predict evaporation (dependent variable). Perform the following tasks:\n",
    "\n",
    "1. Start by extracting the 9am temperature data from a dataframe into a new numpy array called `X`.  You should reshape this array to be 2-d\n",
    "   column matrix that has shape (366, 1), 366 rows, with a single column feature.\n",
    "2. Also extract the evaporation dependent variable int a numpy array named `y`.  This should end up being a vector of shape (366,).\n",
    "3. Complete the function called `task1_sklearn_linear_regression()` found in the `src/assg_tasks.py` file.  You will do the following in this function:\n",
    "   - Implement a linear regression model using scikit-learns linear regression instance.\n",
    "   - Fit the model using the  `X` inputs and `y` labels you extracted and that are passed in to this function.\n",
    "   - Do not specify any metaparamters of the linear regression model, the tests expect a default linear regression is performed.\n",
    "   - You need to find and return additional information from your fitted model, that is used by the tests for this first task.\n",
    "     - You can get the slope and intercept directly from a fitted linear regression model parameters.\n",
    "     - You need to determine the mean squared error (mse) and root mean squared error (rmse) of the fitted model to all of the data, and\n",
    "       return these.\n",
    "     - Also determine the models $R^2$ r squared score.  You can calculate this from the models predictions by hand, or there is a function\n",
    "       that will return the fitted models r squared score.\n",
    "     - Return the model and the asked for measurements of your fit.  You need to pass the tests of your model fit and expected performance before\n",
    "       continuing on to the next task.\n",
    "4. Replot the scatter plot of your data.  But show the fitted line from the linear regression on the model.\n",
    "   Label the axis the same as before.  But this time include a legend.  Make sure the data is plotted as scatter\n",
    "   plot points and identified as suche in the figure.  Also plot the model as a line and identify it in the legend.\n",
    "   Make your figure look like the following.  The regression model line you obtain should\n",
    "   (exactly) match the one shown in this figure.\n",
    "\n",
    "![Regression Model Result](../figures/assg-02-regression-result.png)"
   ]
  },
  {
   "cell_type": "code",
   "execution_count": 19,
   "metadata": {},
   "outputs": [],
   "source": [
    "df['Temp9am'] = df['Temp9am'].fillna(df['Temp9am'].mean())\n",
    "df['Evaporation'] = df['Evaporation'].fillna(df['Evaporation'].mean())"
   ]
  },
  {
   "cell_type": "code",
   "execution_count": 20,
   "metadata": {},
   "outputs": [
    {
     "data": {
      "text/plain": [
       "(366, 1)"
      ]
     },
     "execution_count": 20,
     "metadata": {},
     "output_type": "execute_result"
    }
   ],
   "source": [
    "# 1. extract the X input feature for the linear regression, ensure it is a numpy\n",
    "# array of the correct expected shape, remove/replace the X declaration here\n",
    "X = df['Temp9am'].values.reshape(-1, 1)\n",
    "X.shape"
   ]
  },
  {
   "cell_type": "code",
   "execution_count": 21,
   "metadata": {},
   "outputs": [
    {
     "data": {
      "text/plain": [
       "(366,)"
      ]
     },
     "execution_count": 21,
     "metadata": {},
     "output_type": "execute_result"
    }
   ],
   "source": [
    "# 2. extract the y target regression labels, ensure it is a numpy vector, remove/replace\n",
    "# the y declaration here\n",
    "y = df['Evaporation'].values\n",
    "y.shape"
   ]
  },
  {
   "cell_type": "code",
   "execution_count": 22,
   "metadata": {},
   "outputs": [
    {
     "name": "stderr",
     "output_type": "stream",
     "text": [
      "test_intercept (test_assg_tasks.test_task1_sklearn_linear_regression.test_intercept)\n",
      "test_intercept ... ok\n",
      "test_model (test_assg_tasks.test_task1_sklearn_linear_regression.test_model)\n",
      "test_model ... ok\n",
      "test_mse (test_assg_tasks.test_task1_sklearn_linear_regression.test_mse)\n",
      "test_mse ... ok\n",
      "test_rmse (test_assg_tasks.test_task1_sklearn_linear_regression.test_rmse)\n",
      "test_rmse ... ok\n",
      "test_rsquared (test_assg_tasks.test_task1_sklearn_linear_regression.test_rsquared)\n",
      "test_rsquared ... ok\n",
      "test_slope (test_assg_tasks.test_task1_sklearn_linear_regression.test_slope)\n",
      "test_slope ... ok\n",
      "\n",
      "----------------------------------------------------------------------\n",
      "Ran 6 tests in 0.376s\n",
      "\n",
      "OK\n"
     ]
    }
   ],
   "source": [
    "# 3. your work should go into the src/assg_tasks.py function named task1_sklearn_linear_regression()\n",
    "# This cell must not be removed or modified, it calls your function to create a model and\n",
    "# return the fitted parameters from the regression, and it runs unit tests to see if your\n",
    "# model fit matches the expected fit you should get\n",
    "model, intercept, slope, mse, rmse, rsquared = task1_sklearn_linear_regression(X, y)\n",
    "\n",
    "# run the unit tests so you can see if your fitted model got the expected results\n",
    "# if any of these tests do not pass (don't get ok result) you have done something\n",
    "# wrong in creating your data and/or fitting your model and extracting the\n",
    "# fit parameters\n",
    "run_unittests(['test_task1_sklearn_linear_regression']);"
   ]
  },
  {
   "cell_type": "code",
   "execution_count": 23,
   "metadata": {},
   "outputs": [
    {
     "name": "stdout",
     "output_type": "stream",
     "text": [
      "sklearn intercept:  0.37578175021210747\n",
      "sklearn slope:      0.3354845860060065\n",
      "sklearn mse:        3.5473465427798607\n",
      "sklearn rmse:       1.8834400820784984\n",
      "sklearn R^2 score:  0.5008050204985712\n"
     ]
    }
   ],
   "source": [
    "# You don't have to do anything here, these will display the model fit parameters\n",
    "# you return from your function.  You can compare your parameters and results to\n",
    "# the expected unit test results in the src/test_assg_tasks.py file\n",
    "print('sklearn intercept: ', intercept)\n",
    "print('sklearn slope:     ', slope)\n",
    "print('sklearn mse:       ', mse)\n",
    "print('sklearn rmse:      ', rmse)\n",
    "print('sklearn R^2 score: ', rsquared)"
   ]
  },
  {
   "cell_type": "code",
   "execution_count": 24,
   "metadata": {},
   "outputs": [
    {
     "data": {
      "image/png": "[encoded data removed]",
      "text/plain": [
       "<Figure size 1000x600 with 1 Axes>"
      ]
     },
     "metadata": {},
     "output_type": "display_data"
    }
   ],
   "source": [
    "# 4. replot scatter plot of data adding in fitted regression model line to plot\n",
    "X_range = np.linspace(X.min(), X.max(), 100).reshape(-1, 1)  # Create range for smooth line\n",
    "y_pred = model.predict(X_range)\n",
    "\n",
    "# Step 4: Plot Scatter plot + Regression Line\n",
    "plt.figure(figsize=(10, 6))\n",
    "plt.scatter(df['Temp9am'], df['Evaporation'], alpha=0.6, label='Actual Data', color='blue')\n",
    "plt.plot(X_range, y_pred, color='red', label='Fitted Regression Line', linewidth=2)\n",
    "\n",
    "# Step 5: Formatting plot\n",
    "plt.xlabel('Temperature at 9 AM (°C)')\n",
    "plt.ylabel('Evaporation (mm)')\n",
    "plt.title('Scatter Plot with Fitted Regression Line')\n",
    "plt.legend()\n",
    "plt.grid(True)\n",
    "\n",
    "# Show plot\n",
    "plt.show()"
   ]
  },
  {
   "cell_type": "markdown",
   "metadata": {},
   "source": [
    "## Build and Evaluate a statsmodel ordinary least squares Model\n",
    "\n",
    "For comparison, you will next use the `statsmodel` library to perform a linear regression on the same\n",
    "independent variable (temperature at 9am) to predict evaporation.  You should already have successfully\n",
    "extracted the inputs and the target regression labels into numpy arrays named `X` and `y` respectively in\n",
    "the previous part of this tadk.\n",
    "\n",
    "Perform the following tasks to fit a statsmodel linear regression:\n",
    "\n",
    "1. Create and fit a `statsmodel` `OLS` (ordinary least squared) regression of the data.  You will need\n",
    "   to correctly use the `statsmodel` API here as discussed.  Also don't forget that, for reasons, you\n",
    "   will need to create a dummy intercept term for your input data for the statsmodel OLS\n",
    "   - You need to implement the creation of the model in the `task1_statsmodel_linear_regerssion()` function (found in `src/assg_tasks.py`.  This function should fit\n",
    "     the described model and reutrn it along with the fitted `intercept, slope, mse, rmse and rsquared` values in order\n",
    "     to pass all of the doctests that are performed.\n",
    "   - You may need to read documentation and explore the help system to find out how to obtain the intercept, slope and rsquared values\n",
    "     from an `OLS` fitted model.  You will need to calculate the mse and rmse using the fitted models predictions as you did previously.\n",
    "   - Again use a default `stasdmodel` `OLS` instance, do not specify any metaparameters when creating your model instance to fit.\n",
    "2. Use the statsmodel summary function to display this same information (and more) about the fitted model that is returned."
   ]
  },
  {
   "cell_type": "code",
   "execution_count": 27,
   "metadata": {},
   "outputs": [
    {
     "name": "stderr",
     "output_type": "stream",
     "text": [
      "test_intercept (test_assg_tasks.test_task1_statsmodel_linear_regression.test_intercept)\n",
      "test_intercept ... ok\n",
      "test_model (test_assg_tasks.test_task1_statsmodel_linear_regression.test_model)\n",
      "test_model ... ok\n",
      "test_mse (test_assg_tasks.test_task1_statsmodel_linear_regression.test_mse)\n",
      "test_mse ... ok\n",
      "test_rmse (test_assg_tasks.test_task1_statsmodel_linear_regression.test_rmse)\n",
      "test_rmse ... ok\n",
      "test_rsquared (test_assg_tasks.test_task1_statsmodel_linear_regression.test_rsquared)\n",
      "test_rsquared ... ok\n",
      "test_slope (test_assg_tasks.test_task1_statsmodel_linear_regression.test_slope)\n",
      "test_slope ... ok\n",
      "\n",
      "----------------------------------------------------------------------\n",
      "Ran 6 tests in 0.155s\n",
      "\n",
      "OK\n"
     ]
    }
   ],
   "source": [
    "# your work should go into the src/assg_tasks.py function named task1_statsmodel_linear_regerssion()\n",
    "# This cell must not be removed or modified, it calls your function to create a model and\n",
    "# return the fitted parameters from the regression, and it runs doctests to see if your\n",
    "# model fit matches the expected fit you should get\n",
    "model, intercept, slope, mse, rmse, rsquared = task1_statsmodel_linear_regression(y, X)\n",
    "\n",
    "# run the unit tests so you can see if your fitted model got the expected results\n",
    "# if any of these tests do not pass (don't get ok result) you have done something\n",
    "# wrong in creating your data and/or fitting your model and extracting the\n",
    "# fit parameters\n",
    "run_unittests(['test_task1_statsmodel_linear_regression']);"
   ]
  },
  {
   "cell_type": "code",
   "execution_count": 26,
   "metadata": {},
   "outputs": [
    {
     "name": "stdout",
     "output_type": "stream",
     "text": [
      "statsmodel intercept:  0.37578175021210747\n",
      "statsmodel slope:      0.3354845860060065\n",
      "statsmodel mse:        3.5473465427798607\n",
      "statsmodel rmse:       1.8834400820784984\n",
      "statsmodel R^2 score:  0.5008050204985712\n"
     ]
    }
   ],
   "source": [
    "# 2. Determine the model parameter slope and intercept terms as well as the rsquared fit result\n",
    "# and return these along with the model.  You don't have to do anything in this cell, the\n",
    "# returned parameters displayed should match the expected values for the unit tests found in\n",
    "# src/test_assg_tasks.py\n",
    "print('statsmodel intercept: ', intercept)\n",
    "print('statsmodel slope:     ', slope)\n",
    "print('statsmodel mse:       ', mse)\n",
    "print('statsmodel rmse:      ', rmse)\n",
    "print('statsmodel R^2 score: ', rsquared)"
   ]
  },
  {
   "cell_type": "code",
   "execution_count": 20,
   "metadata": {},
   "outputs": [],
   "source": [
    "# 3. display summary information about the statsmodel OLS linear regression model fit"
   ]
  },
  {
   "cell_type": "markdown",
   "metadata": {},
   "source": [
    "As shown here, the fitted model parameters and $R^2$ score both should exactly match\n",
    "the results obtained by scikit-learn when fitting using default linear regression.  We\n",
    "can see further information about the fit from the statsmodel summary.  The p-value and interval\n",
    "given for the const and x1 parameters show the 95% confidence interval of the fitted coefficients.\n"
   ]
  },
  {
   "cell_type": "markdown",
   "metadata": {},
   "source": [
    "# Task 2: Binary Classification using Logistic Classifier\n",
    "--------\n",
    "\n",
    "## Encode Categorical Variables\n",
    "\n",
    "The weather dataset you were given contains several categorical variables.  We will try and build\n",
    "a binary classifier on the `RainTomorrow` attribute.  Perform the following tasks:\n",
    "\n",
    "1. Verify that the rain tomorrow attribute is in fact a binary categorical variable. For example, use\n",
    "   methods to determine all of the unique values and count how many of each you have for that attribute.\n",
    "2. Create a simple pipeline to encode the rain tomorrow attribute as ordinal (integer) values.  Make sure \n",
    "   that \"No\" rain tomorrow is encoded as the false or 0 value, and \"Yes\" rain tomorrow\n",
    "   is encoded as the true or 1 value. (Hint there are more No rains than Yes rains targets in this data, so\n",
    "   should be more 0 encodings).\n",
    "4. Encode the rain tomorrow as a categorical variable.  Save the results in a dataframe or numpy array\n",
    "   (you will need to call the targets `y` again for the unit tests) to use as the target values for training.\n",
    "5. To double check, verify that no is encoded as 0 or false and yes as 1 or true after you encode the\n",
    "   categorical variable.\n"
   ]
  },
  {
   "cell_type": "code",
   "execution_count": 216,
   "metadata": {},
   "outputs": [
    {
     "name": "stdout",
     "output_type": "stream",
     "text": [
      "Unique categories: [1 0]\n",
      "\n",
      "Counts of each category:\n",
      " RainTomorrow\n",
      "0    300\n",
      "1     66\n",
      "Name: count, dtype: int64\n"
     ]
    }
   ],
   "source": [
    "# 1. verify that the rain tomorrow string attribute is a binary categorical variable by\n",
    "#    determining all unique categories and counting the number of each unique category\n",
    "unique_values = df['RainTomorrow'].unique()\n",
    "value_counts = df['RainTomorrow'].value_counts()\n",
    "\n",
    "# Print results\n",
    "print(\"Unique categories:\", unique_values)\n",
    "print(\"\\nCounts of each category:\\n\", value_counts)"
   ]
  },
  {
   "cell_type": "code",
   "execution_count": 217,
   "metadata": {},
   "outputs": [],
   "source": [
    "# 2. create ordinal encoder pipeline to encode the rain tomorrow attribute\n",
    "from sklearn.preprocessing import OrdinalEncoder\n",
    "ordinal_encoder = OrdinalEncoder()"
   ]
  },
  {
   "cell_type": "code",
   "execution_count": 218,
   "metadata": {},
   "outputs": [],
   "source": [
    "# 3. encode the rain tomorrow as categorical variables and save result in array\n",
    "#    array y or labels for training\n",
    "y = ordinal_encoder.fit_transform(df[['RainTomorrow']])"
   ]
  },
  {
   "cell_type": "code",
   "execution_count": 219,
   "metadata": {},
   "outputs": [
    {
     "name": "stdout",
     "output_type": "stream",
     "text": [
      "[0 1]\n",
      "[300  66]\n"
     ]
    }
   ],
   "source": [
    "# 4. double check that no is encoded as 0 and yes as 1 in ordinal encoding\n",
    "unique, counts = np.unique(df['RainTomorrow'], return_counts=True)\n",
    "print(unique)\n",
    "print(counts)"
   ]
  },
  {
   "cell_type": "markdown",
   "metadata": {},
   "source": [
    "To test that you performed the encoding correctly, your `y` will be passed through the\n",
    "`task2_label_tests()` doctests to see if the expected types and encodings have been\n",
    "as described.\n",
    "\n",
    "Now implement the function named `task2_label_encoding` in the `src/assg_tasks.py` file.  You will be passed a dataframe with only the\n",
    "`RainTomorrow` attribute in it to this function.  You need to recreate the steps you did above to create\n",
    "an encoder and encode this attribute as a categorical variable.  \n",
    "- You should return the resulting `y` encoded categorical labels.\n",
    "- Also as before, you need to determine and return some attributes of your encoded labels including:\n",
    "  - Return the number of dimensions in y, which should be 1\n",
    "  - Return the shape of y, which should be a numpy vector here\n",
    "  - Count and return the number of no (0) and the number of yes (1) values in your labels."
   ]
  },
  {
   "cell_type": "code",
   "execution_count": 258,
   "metadata": {},
   "outputs": [
    {
     "name": "stderr",
     "output_type": "stream",
     "text": [
      "/workspaces/ass02/notebooks/../src/assg_tasks.py:179: SettingWithCopyWarning: \n",
      "A value is trying to be set on a copy of a slice from a DataFrame.\n",
      "Try using .loc[row_indexer,col_indexer] = value instead\n",
      "\n",
      "See the caveats in the documentation: https://pandas.pydata.org/pandas-docs/stable/user_guide/indexing.html#returning-a-view-versus-a-copy\n",
      "  \n",
      "/workspaces/ass02/notebooks/../src/assg_tasks.py:182: SettingWithCopyWarning: \n",
      "A value is trying to be set on a copy of a slice from a DataFrame.\n",
      "Try using .loc[row_indexer,col_indexer] = value instead\n",
      "\n",
      "See the caveats in the documentation: https://pandas.pydata.org/pandas-docs/stable/user_guide/indexing.html#returning-a-view-versus-a-copy\n",
      "  \n",
      "test_ndim (test_assg_tasks.test_task2_label_encoding.test_ndim)\n",
      "test_ndim ... ok\n",
      "test_num_no (test_assg_tasks.test_task2_label_encoding.test_num_no)\n",
      "test_num_no ... ok\n",
      "test_num_yes (test_assg_tasks.test_task2_label_encoding.test_num_yes)\n",
      "test_num_yes ... ok\n",
      "test_shape (test_assg_tasks.test_task2_label_encoding.test_shape)\n",
      "test_shape ... ok\n",
      "test_y (test_assg_tasks.test_task2_label_encoding.test_y)\n",
      "test_y ... ok\n",
      "\n",
      "----------------------------------------------------------------------\n",
      "Ran 5 tests in 0.113s\n",
      "\n",
      "OK\n"
     ]
    }
   ],
   "source": [
    "# your work should go into the src/assg_tasks.py function named task2_label_encoding()\n",
    "# This cell must not be removed or modified\n",
    "# For this test, you just need to create the y labels correctly as\n",
    "# described before they are tested here\n",
    "y, ndim, shape, num_no, num_yes = task2_label_encoding(df[['RainTomorrow']])\n",
    "\n",
    "# run the unit tests so we can see if the encoded categorical labels are done as required\n",
    "run_unittests(['test_task2_label_encoding']);"
   ]
  },
  {
   "cell_type": "code",
   "execution_count": 259,
   "metadata": {},
   "outputs": [
    {
     "name": "stdout",
     "output_type": "stream",
     "text": [
      "Label number of dimensions:  1\n",
      "Label shape               :  (366,)\n",
      "Label number of no labels :  300\n",
      "Label number of yes labels:  66\n"
     ]
    }
   ],
   "source": [
    "print('Label number of dimensions: ', ndim)\n",
    "print('Label shape               : ', shape)\n",
    "print('Label number of no labels : ', num_no)\n",
    "print('Label number of yes labels: ', num_yes)"
   ]
  },
  {
   "cell_type": "markdown",
   "metadata": {},
   "source": [
    "## Impute Missing Data\n",
    "\n",
    "We will be using the `Sunshine` and `Pressure3pm` attributes when building a classifier.\n",
    "There are some missing values in one of these attributes.\n",
    "\n",
    "1. Create a new dataframe or numpy array with only 2 features/columns, the `Sunshine`\n",
    "   and `Pressure3pm` attributes.\n",
    "2. Determine the number of missing values in each of the two attributes `Sunshine` and `Pressure3pm`\n",
    "3. Create a simple imputer that will fill in missing values with\n",
    "   the mean value of that attribute\n",
    "4. Fit the imputer and use it to fill in missing values in your dataframe with only\n",
    "   the two attributes we will use.\n",
    "5. Confirm that there are no longer any missing values in the dataframe/numpy array you will use for\n",
    "   training."
   ]
  },
  {
   "cell_type": "code",
   "execution_count": 260,
   "metadata": {},
   "outputs": [
    {
     "name": "stdout",
     "output_type": "stream",
     "text": [
      "   Sunshine  Pressure3pm\n",
      "0       6.3       1015.0\n",
      "1       9.7       1008.4\n",
      "2       3.3       1007.2\n",
      "3       9.1       1007.0\n",
      "4      10.6       1018.5\n"
     ]
    }
   ],
   "source": [
    "# 1. Create a new dataframe/numpy array with only the 2 features Sunshine and Pressure3pm\n",
    "X = df[['Sunshine', 'Pressure3pm']]\n",
    "print(X.head())"
   ]
  },
  {
   "cell_type": "code",
   "execution_count": 261,
   "metadata": {},
   "outputs": [
    {
     "data": {
      "text/plain": [
       "Sunshine       3\n",
       "Pressure3pm    0\n",
       "dtype: int64"
      ]
     },
     "execution_count": 261,
     "metadata": {},
     "output_type": "execute_result"
    }
   ],
   "source": [
    "# 2. Determine number of missing values in Sunshine and Pressuer3pm features\n",
    "X.isnull().sum()"
   ]
  },
  {
   "cell_type": "code",
   "execution_count": 132,
   "metadata": {},
   "outputs": [],
   "source": [
    "# 3. Create a simple imputer to fill in missing values with mean value of attribute\n",
    "from sklearn.impute import SimpleImputer\n",
    "\n",
    "df_new = df[['Sunshine', 'Pressure3pm']]"
   ]
  },
  {
   "cell_type": "code",
   "execution_count": 262,
   "metadata": {},
   "outputs": [
    {
     "name": "stdout",
     "output_type": "stream",
     "text": [
      "   Sunshine  Pressure3pm\n",
      "0       6.3       1015.0\n",
      "1       9.7       1008.4\n",
      "2       3.3       1007.2\n",
      "3       9.1       1007.0\n",
      "4      10.6       1018.5\n"
     ]
    },
    {
     "data": {
      "text/plain": [
       "Sunshine       0\n",
       "Pressure3pm    0\n",
       "dtype: int64"
      ]
     },
     "execution_count": 262,
     "metadata": {},
     "output_type": "execute_result"
    }
   ],
   "source": [
    "# 4. Impute missing values and fill them in with the mean of the attribute\n",
    "from sklearn.impute import SimpleImputer\n",
    "\n",
    "# Select the Sunshine and Pressure3pm columns\n",
    "df_selected = df[['Sunshine', 'Pressure3pm']]\n",
    "\n",
    "# Create a SimpleImputer instance with strategy='mean'\n",
    "imputer = SimpleImputer(strategy='mean')\n",
    "\n",
    "# Fit the imputer on the selected columns and transform the data\n",
    "df_imputed = imputer.fit_transform(df_selected)\n",
    "\n",
    "# Convert the result back to a DataFrame\n",
    "df_imputed = pd.DataFrame(df_imputed, columns=['Sunshine', 'Pressure3pm'])\n",
    "\n",
    "# Display the imputed DataFrame\n",
    "print(df_imputed.head())\n",
    "df_imputed.isnull().sum()"
   ]
  },
  {
   "cell_type": "code",
   "execution_count": 263,
   "metadata": {},
   "outputs": [
    {
     "data": {
      "text/plain": [
       "Sunshine       0\n",
       "Pressure3pm    0\n",
       "dtype: int64"
      ]
     },
     "execution_count": 263,
     "metadata": {},
     "output_type": "execute_result"
    }
   ],
   "source": [
    "# 5. Confirm that there are no longer any missing values\n",
    "df_imputed.isnull().sum()"
   ]
  },
  {
   "cell_type": "markdown",
   "metadata": {},
   "source": [
    "To test that you have correctly imputed the missing values with the mean, copy your work in the previous cells\n",
    "into the `task2_impute_missing_data` in `src/assg_tasks.py`.  This function takes the whole dataframe as input,\n",
    "so you need to extract the needed features and impute the missing data.  We expect the cleaned data to be returned\n",
    "as `X`, a pandas dataframe, along with some measured values of the `X` inputs that will be tested."
   ]
  },
  {
   "cell_type": "code",
   "execution_count": 268,
   "metadata": {},
   "outputs": [
    {
     "name": "stderr",
     "output_type": "stream",
     "text": [
      "test_columns (test_assg_tasks.test_task2_impute_missing_data.test_columns)\n",
      "test_columns ... ok\n",
      "test_na_sum (test_assg_tasks.test_task2_impute_missing_data.test_na_sum)\n",
      "test_na_sum ... ok\n",
      "test_ndim (test_assg_tasks.test_task2_impute_missing_data.test_ndim)\n",
      "test_ndim ... ok\n",
      "test_shape (test_assg_tasks.test_task2_impute_missing_data.test_shape)\n",
      "test_shape ... ok\n",
      "test_y (test_assg_tasks.test_task2_impute_missing_data.test_y)\n",
      "test_y ... ok\n",
      "\n",
      "----------------------------------------------------------------------\n",
      "Ran 5 tests in 0.077s\n",
      "\n",
      "OK\n"
     ]
    }
   ],
   "source": [
    "# your work should go into the src/assg_tasks.py function named task2_impute_missing_data()\n",
    "# This cell must not be removed or modified\n",
    "# For this test, you just need to create the X features dataframe correctly as\n",
    "# described before it is tested here, and return the properties shown for testing\n",
    "X, ndim, shape, columns, na_sum = task2_impute_missing_data(df)\n",
    "\n",
    "# run the doc tests so you can see the imputed missing values have been done correctly\n",
    "run_unittests(['test_task2_impute_missing_data']);"
   ]
  },
  {
   "cell_type": "code",
   "execution_count": 269,
   "metadata": {},
   "outputs": [
    {
     "name": "stdout",
     "output_type": "stream",
     "text": [
      "Features number of dimensions:  2\n",
      "Features shape               :  (366, 2)\n",
      "Features columns: \n",
      "Index(['Sunshine', 'Pressure3pm'], dtype='object')\n",
      "Features na sums: \n",
      "Sunshine       0\n",
      "Pressure3pm    0\n",
      "dtype: int64\n"
     ]
    }
   ],
   "source": [
    "# you don't need to do anything in this cell, but you can check that the properties that\n",
    "# you return here match those tested in the test_assg_tasks.py file for this function\n",
    "print('Features number of dimensions: ', ndim)\n",
    "print('Features shape               : ', shape)\n",
    "print('Features columns: ')\n",
    "print(columns)\n",
    "print('Features na sums: ')\n",
    "print(na_sum)"
   ]
  },
  {
   "cell_type": "markdown",
   "metadata": {},
   "source": [
    "## Visualize Binary Classification Task\n",
    "\n",
    "We will use the attributes `Sunshine` and `Pressure3pm` to try and build a binary classifier to predict\n",
    "the rain tomorrow binary label.  First of all lets visualize the task.  Create a plot by performing these tasks:\n",
    "\n",
    "1. Plot the `Sunshine` attribute as the x axis variable, and the 'Pressure3pm' attribute\n",
    "   for the y axis, make sure this is a scatter plot.\n",
    "2. Use shape and/or color to provide a label for each point.  Plot all points on the figure\n",
    "   where rain tomorrow is yes using a shape/color, then plot all the points for no using a\n",
    "   different shape/color.\n",
    "3. Make sure that you create a legend that identifies the point color/shape chose for your yes/no\n",
    "   category.\n",
    "4. Label your x and y axis appropriately for the attributes you plotted on them."
   ]
  },
  {
   "cell_type": "code",
   "execution_count": 163,
   "metadata": {},
   "outputs": [],
   "source": [
    "# create your plot here that\n",
    "# 1. scatter plot Sunshine as x axis variable and  as y axis variable\n",
    "# 2. perform separate plots for samples where rain tomorrow is yes, vs. where rain tomorrow is no\n",
    "#    use color/shape to differentiate these two categories in the plot\n",
    "# 3. create a legend that identifies rain tomorrow yes/no points in figure\n",
    "# 4. make sure you label your axes and add any other useful information to the figure"
   ]
  },
  {
   "cell_type": "code",
   "execution_count": 183,
   "metadata": {},
   "outputs": [
    {
     "data": {
      "image/png": "[encoded data removed]",
      "text/plain": [
       "<Figure size 1000x800 with 1 Axes>"
      ]
     },
     "metadata": {},
     "output_type": "display_data"
    },
    {
     "data": {
      "image/png": "[encoded data removed]",
      "text/plain": [
       "<Figure size 800x600 with 1 Axes>"
      ]
     },
     "metadata": {},
     "output_type": "display_data"
    },
    {
     "data": {
      "text/plain": [
       "<contextlib.ExitStack at 0x7f8ee9c7b500>"
      ]
     },
     "execution_count": 183,
     "metadata": {},
     "output_type": "execute_result"
    }
   ],
   "source": [
    "import matplotlib.pyplot as plt\n",
    "\n",
    "# Ensure plots are displayed correctly in Jupyter Notebook\n",
    "plt.ioff()\n",
    "\n",
    "# Scatter Plot for All Data\n",
    "plt.figure(figsize=(10,8))  \n",
    "plt.scatter(df['Sunshine'], df['Pressure3pm'], alpha=0.5)\n",
    "plt.xlabel('Sunshine')\n",
    "plt.ylabel('Pressure3pm')\n",
    "plt.title('Scatter plot of Sunshine vs. Pressure3pm')\n",
    "plt.show()  \n",
    "\n",
    "# Separate Scatter Plots for \"Rain = No\" and \"Rain = Yes\"\n",
    "df_no = df[df['RainTomorrow'] == 'No']\n",
    "df_yes = df[df['RainTomorrow'] == 'Yes']\n",
    "\n",
    "# Combined Scatter Plot with Legend\n",
    "plt.figure(figsize=(8,6))\n",
    "plt.scatter(df_no['Sunshine'], df_no['Pressure3pm'], color='blue', label='No Rain', alpha=0.5, marker='o')\n",
    "plt.scatter(df_yes['Sunshine'], df_yes['Pressure3pm'], color='red', label='Rain', alpha=0.5, marker='x')\n",
    "\n",
    "# Labels and Title\n",
    "plt.xlabel('Sunshine')\n",
    "plt.ylabel('Pressure3pm')\n",
    "plt.title('Scatter Plot of Sunshine vs. Pressure3pm by RainTomorrow')\n",
    "\n",
    "# Legend\n",
    "plt.legend(title='Rain Tomorrow')\n",
    "\n",
    "# Display the final combined plot\n",
    "plt.show()  \n",
    "\n",
    "# Re-enable interactive mode (optional)\n",
    "plt.ion() "
   ]
  },
  {
   "cell_type": "markdown",
   "metadata": {},
   "source": [
    "## Build Classifier using Scikit-learn LogisticRegression\n",
    "\n",
    "Despite its name, the `LogisticRegression` method and object in scikit-learn is used\n",
    "for classification tasks.  Create and fit a Logistic Regression to the `Sunshine` and\n",
    "`Pressure3pm` features.  The `X` input features that were cleaned and the `y` target regression\n",
    "labels matrices are assumed to have been created above and available.\n",
    "\n",
    "Perform the following tasks:\n",
    "\n",
    "1. Create a `LogisticRegression` using scikit-learn framework.  To make the decision boundary\n",
    "   easier to visualize, use the following parameters when you create this object:\n",
    "   `solver='lbfgs', C=500.0`.  These parameters also will produce a model that is almos the same as the\n",
    "   one that the `statsmodel` classifier will produce.\n",
    "   - You need to implement the creation of the LogisticRegression model in the `task2_sklearn()` function (found in `src/Task2sklearn.py`.  This function should fit\n",
    "     the described model and reutrn it along with the fitted `intercept, slopes, accuracy` values in order\n",
    "     to pass all of the doctests that are performed.\n",
    "   - Fit the logistic regression model to the `Sunshine` and `Pressure3pm` attributes.  Use the X inputs\n",
    "     you created before with missing values filled in. You should already have the\n",
    "     y/labels created for the binary classes from before.\n",
    "   - Extract and return the intercept and model coefficients found for the fitted logistic regression.\n",
    "   - Extract and return the accuracy that this model achieves on all of the data you fit the model with.\n",
    "2. Display a confusion matrix of the performance of this model on all of the data."
   ]
  },
  {
   "cell_type": "code",
   "execution_count": 275,
   "metadata": {},
   "outputs": [
    {
     "name": "stderr",
     "output_type": "stream",
     "text": [
      "test_accuracy (test_assg_tasks.test_task2_sklearn_logistic_regression.test_accuracy)\n",
      "test_accuracy ... ok\n",
      "test_intercept (test_assg_tasks.test_task2_sklearn_logistic_regression.test_intercept)\n",
      "test_intercept ... ok\n",
      "test_model (test_assg_tasks.test_task2_sklearn_logistic_regression.test_model)\n",
      "test_model ... ok\n",
      "test_slopes (test_assg_tasks.test_task2_sklearn_logistic_regression.test_slopes)\n",
      "test_slopes ... ok\n",
      "\n",
      "----------------------------------------------------------------------\n",
      "Ran 4 tests in 0.083s\n",
      "\n",
      "OK\n"
     ]
    }
   ],
   "source": [
    "# your work should go into the src/assg_tasks.py function named task2_sklearn_logistic_regression()\n",
    "# This cell must not be removed or modified, it calls your function to create a model and\n",
    "# return the fitted parameters from the regression, and it runs doctests to see if your\n",
    "# model fit matches the expected fit you should get\n",
    "model, intercept, slopes, accuracy = task2_sklearn_logistic_regression(X, y)\n",
    "\n",
    "# run the unit tests so you can see if your fitted model got the expected results\n",
    "# if any of these tests do not pass (don't get ok result) you have done something\n",
    "# wrong in creating your data and/or fitting your model and extracting the\n",
    "# fit parameters\n",
    "run_unittests(['test_task2_sklearn_logistic_regression']);"
   ]
  },
  {
   "cell_type": "code",
   "execution_count": 276,
   "metadata": {},
   "outputs": [
    {
     "name": "stdout",
     "output_type": "stream",
     "text": [
      "sklearn logistic regression intercept:          186.59064806897868\n",
      "sklearn logistic regression slope coefficients: [-0.32088535 -0.18312011]\n",
      "sklearn logistic regression model accuracy:     0.8633879781420765\n"
     ]
    }
   ],
   "source": [
    "# The parameters returned from your function, should match and pass the expected\n",
    "# results in the tests found in src/test_assg_tasks.py for this function\n",
    "print('sklearn logistic regression intercept:         ', intercept)\n",
    "print('sklearn logistic regression slope coefficients:', slopes)\n",
    "print('sklearn logistic regression model accuracy:    ', accuracy)"
   ]
  },
  {
   "cell_type": "code",
   "execution_count": 37,
   "metadata": {},
   "outputs": [],
   "source": [
    "# 2. Display a confusion matrix of the performance of the model here"
   ]
  },
  {
   "cell_type": "markdown",
   "metadata": {},
   "source": [
    "## Visualize Classifier Decision Boundary\n",
    "\n",
    "When a classification model is fit to a set of binary data, it will determine a\n",
    "decision boundary.  On one side of this boundary, it predicts 'no'/'false', and on\n",
    "the other side it predicts 'yes'/'true'.\n",
    "\n",
    "You can visualize the decision boundary created by your logistic regression model.\n",
    "The slope and intercept coefficients you should have displayed above will describe\n",
    "the decision boundary line that was fit by the logistic regression.  When we plotted\n",
    "your data, you should have used Sunshine as the x axis values, and Pressure3pm as the\n",
    "y axis values.  The logistic regression model should have given you 1 intercept and 2 coefficients.\n",
    "The model of the decision boundary line is thus:\n",
    "\n",
    "\\begin{equation}\n",
    "0 = \\text{intercept} + \\text{coef}_0 \\times \\text{Sunshine} + \\text{coef}_1 \\times \\text{Pressure3pm}\n",
    "\\end{equation}\n",
    "\n",
    "or\n",
    "\n",
    "\\begin{equation}\n",
    "0 = b + \\theta_0  x + \\theta_1  y\n",
    "\\end{equation}\n",
    "\n",
    "\n",
    "\n",
    "Remember that we use Sunshine as our x values and Pressure3pm as our y values.  We can substitute those names\n",
    "and then solve for y to get the following expression:\n",
    "\n",
    "\\begin{equation}\n",
    "y = \\frac{-(b + \\theta_0 x)}{\\theta_1}\n",
    "\\end{equation}\n",
    "\n",
    "This equation allows you to determine the decision boundary line, given the intercept ($b$) of your\n",
    "model and the two fitted coefficients $\\theta_0 \\theta_1$.  For example, to determine the line, you can\n",
    "plot 2 points. The x axis Sunshine ranges from 0 to 14, so you could determine the y (Pressure3pm) location\n",
    "of the decision boundary at those 2 points and draw a line on the figure to visualize the decision boundary.\n",
    "\n",
    "You thus need to perform the following tasks to visualize the decision boundary that your fitted\n",
    "logistic regression model found:\n",
    "\n",
    "1. Replot your scatter plot figure from before of the Sunshine vs. Pressure3pm points using different markers\n",
    "   for the yes rain / no rain.\n",
    "2. Using the intercept and coefficient of your model, determine 2 points on the decision boundary line.  Add\n",
    "   this line to the figure.\n",
    "3. Make sure your legend includes a label for the decision boundary line.  Make sure axes are labeled\n",
    "   and legend identifies yes, no markers and the decision boundary line.\n",
    "\n",
    "Your resulting figure should look as close to the following as possible.  You should get the shown\n",
    "decision boundary line if you use the parameters shown for your logistic regression:\n",
    "\n",
    "![Logistic Classification Decision Boundary](../figures/assg-02-decision-boundary.png)"
   ]
  },
  {
   "cell_type": "code",
   "execution_count": 283,
   "metadata": {},
   "outputs": [
    {
     "data": {
      "image/png": "[encoded data removed]",
      "text/plain": [
       "<Figure size 800x600 with 1 Axes>"
      ]
     },
     "metadata": {},
     "output_type": "display_data"
    }
   ],
   "source": [
    "# put your work to recreate the visualization of the computed decision boundary here\n",
    "# separate out rain vs. no rain to plot separately\n",
    "import numpy as np\n",
    "import matplotlib.pyplot as plt\n",
    "\n",
    "# Scatter plot of data points\n",
    "plt.figure(figsize=(8, 6))\n",
    "plt.scatter(df_no['Sunshine'], df_no['Pressure3pm'], color='blue', label='No Rain Tomorrow', alpha=0.5, marker='o')\n",
    "plt.scatter(df_yes['Sunshine'], df_yes['Pressure3pm'], color='red', label='Yes Rain Tomorrow', alpha=0.5, marker='x')\n",
    "\n",
    "# Compute decision boundary line\n",
    "x_vals = np.array([0, 14])  # Sunshine range\n",
    "y_vals = -(intercept + slopes[0] * x_vals) / slopes[1]  # Compute Pressure3pm using decision boundary equation\n",
    "\n",
    "# Plot the decision boundary\n",
    "plt.plot(x_vals, y_vals, color='black', linestyle='dashed', label='Decision Boundary')\n",
    "\n",
    "# Labels and Title\n",
    "plt.xlabel('Sunshine (hours)')\n",
    "plt.ylabel('Pressure 3pm (millibars)')\n",
    "plt.title('Scatter Plot of Sunshine vs. Pressure3pm with Decision Boundary')\n",
    "\n",
    "# Legend\n",
    "plt.legend()\n",
    "\n",
    "# Display plot\n",
    "plt.show()"
   ]
  },
  {
   "cell_type": "markdown",
   "metadata": {},
   "source": [
    "## Build Classifier using statsmodel Logit\n",
    "\n",
    "We will also demonstrate building a binary classifier using the statsmodel library.\n",
    "Perform the following:\n",
    "\n",
    "1. Create a statsmodel Logit instance and fit it to your two features  and binary category labels.\n",
    "   Remember that the api for statsmodel reverses the order of the inputs and the labels when fitting.\n",
    "   Do not change any of the default metaparamters of the Logit, use the default settings for this model.\n",
    "   - You need to implement the creation of the statsmodel logiistic regression model\n",
    "     in the `task2_statsmodel()` function (found in `src/Task2statsmodel.py`).\n",
    "   - This function should fit the described model and reutrn it along with the fitted `params, accuracy` values\n",
    "     in order to pass all of the doctests that are performed.\n",
    "   - Fit the logistic regression model to the Sunshine and Pressure3pm attributes. Use the X inputs you created before with missing values filled in.\n",
    "     You should already have the y/labels created for the binary classes from before.\n",
    "   - You should pass in the `X` unmodified, but don't forget that you need to add a dummy constant term\n",
    "     to the features array to be used by `statsmodel`\n",
    "   - Extract and return the intercept and model parameters found for the fitted logistic regression.\n",
    "   - Extract and return the accuracy that this model achieves on all of the data you fit the model with.\n",
    "2. Display a summary of the fitted model obtained by the statsmodel Logit\n",
    "3. Compare results from statsmodel and scikit learn.  Did they get an equivalent model?"
   ]
  },
  {
   "cell_type": "code",
   "execution_count": 284,
   "metadata": {},
   "outputs": [
    {
     "name": "stderr",
     "output_type": "stream",
     "text": [
      "test_accuracy (test_assg_tasks.test_task2_statsmodel_logistic_regression.test_accuracy)\n",
      "test_accuracy ... ok\n",
      "test_intercept (test_assg_tasks.test_task2_statsmodel_logistic_regression.test_intercept)\n",
      "test_intercept ... ok\n",
      "test_model (test_assg_tasks.test_task2_statsmodel_logistic_regression.test_model)\n",
      "test_model ... ok\n",
      "test_slopes (test_assg_tasks.test_task2_statsmodel_logistic_regression.test_slopes)\n",
      "test_slopes ... ok\n",
      "\n",
      "----------------------------------------------------------------------\n",
      "Ran 4 tests in 0.116s\n",
      "\n",
      "OK\n"
     ]
    }
   ],
   "source": [
    "# your work should go into the src/Task2statsmodel function named task2_statsmodel()\n",
    "# This cell must not be removed or modified, it calls your function to create a model and\n",
    "# return the fitted parameters from the regression, and it runs doctests to see if your\n",
    "# model fit matches the expected fit you should get\n",
    "model, intercept, slopes, accuracy = task2_statsmodel_logistic_regression(y, X)\n",
    "\n",
    "# run the unit tests so you can see if your fitted model got the expected results\n",
    "# if any of these tests do not pass (don't get ok result) you have done something\n",
    "# wrong in creating your data and/or fitting your model and extracting the\n",
    "# fit parameters\n",
    "run_unittests(['test_task2_statsmodel_logistic_regression']);"
   ]
  },
  {
   "cell_type": "code",
   "execution_count": 285,
   "metadata": {},
   "outputs": [
    {
     "name": "stdout",
     "output_type": "stream",
     "text": [
      "statsmodel logistic regression intercept:          186.59040174670466\n",
      "statsmodel logistic regression slope coefficients: Sunshine      -0.320883\n",
      "Pressure3pm   -0.183120\n",
      "dtype: float64\n",
      "statsmodel logistic regression model accuracy:     0.8633879781420765\n"
     ]
    }
   ],
   "source": [
    "# The parameters returned from your function, should match and pass the expected\n",
    "# results in the src/test_assg_tasks.py unit tests of this function\n",
    "print('statsmodel logistic regression intercept:         ', intercept)\n",
    "print('statsmodel logistic regression slope coefficients:', slopes)\n",
    "print('statsmodel logistic regression model accuracy:    ', accuracy)"
   ]
  },
  {
   "cell_type": "code",
   "execution_count": 301,
   "metadata": {},
   "outputs": [],
   "source": [
    "# # 2. Display a summary of the statsmodel fit here\n",
    "# pred_probs = model.predict(X_with_intercept)\n",
    "# def prob_to_category(pred_probs):\n",
    "#     \"\"\"We expect a samples X 10 shaped numpy array of prediction probabilities for the\n",
    "#     10 categories.  We return a samples x 1 shaped vector of the corresponding category label\n",
    "#     \"\"\"\n",
    "#     return np.argmax(pred_probs, axis=1)\n",
    "\n",
    "# def score(pred, y):\n",
    "#     \"\"\"Given a vector of predictions and a a vector of correct labels y,\n",
    "#     determine the score or prediction accuracy.\n",
    "#     \"\"\"\n",
    "#     n = y.shape[0] # number of samples\n",
    "#     correct_labels = (pred == y)\n",
    "    \n",
    "#     # return the accuracy ration, number correct / number of samples\n",
    "#     return np.sum(correct_labels) / n\n",
    "\n",
    "# pred_probs = model.predict(X_with_intercept)\n",
    "# predictions = prob_to_category(pred_probs)\n",
    "\n",
    "# # the score for a statsmodels logistic regressor\n",
    "# accuracy = score(predictions, y)\n",
    "# print(\"training accuracy\", accuracy)"
   ]
  },
  {
   "cell_type": "markdown",
   "metadata": {},
   "source": [
    "**Compare the Results**\n",
    "\n",
    "Discuss and compare the two classifiers.  Are the parameters obtained the same?  Do they\n",
    "achieve the same accuracy?"
   ]
  },
  {
   "cell_type": "markdown",
   "metadata": {},
   "source": [
    "## Extra: Improve the Classifier\n",
    "--------\n",
    "\n",
    "I may give a point or to back of missed points on the assignment for doing the following.\n",
    "We only used 2 features in our classifier because that makes it possible to visualize the\n",
    "decision boundary.  However, the RISK_MM feature is highly correlated with the rain tomorrow\n",
    "binary label we are trying to predict.\n",
    "\n",
    "Create a logistic regression model (you can use either scikit-learn or statsmodel or both).  But this\n",
    "time train with the RISK_MM, along with the other two features we used before.  Report accuracy and confusion matrix for this model.  If interested, you can look at the correlation of other features\n",
    "given in the dataset, and try adding others besides these 3 to see if you can get further improvements."
   ]
  },
  {
   "cell_type": "code",
   "execution_count": 298,
   "metadata": {},
   "outputs": [
    {
     "name": "stdout",
     "output_type": "stream",
     "text": [
      "Model Accuracy: 1.0\n",
      "Confusion Matrix:\n",
      " [[300   0]\n",
      " [  0  66]]\n"
     ]
    }
   ],
   "source": [
    "# extra credit work adding in RISK_MM feature here\n",
    "\n",
    "# X = df[['Sunshine']]  # I added RISK_MM                    #contains NaN when tested alone with RainTomorrow\n",
    "# X = df[['Pressure3pm']]  # I added RISK_MM               # doesn't contain NaN when tested with RainTomorrow\n",
    "# X = df[['RISK_MM']]  # I added RISK_MM                   # doesn't contain NaN when tested with RainTomorrow\n",
    "\n",
    "# Select the features and target variable\n",
    "X = df[['Sunshine', 'Pressure3pm', 'RISK_MM']]\n",
    "y = df['RainTomorrow']  # Target variable\n",
    "\n",
    "# Impute missing values using the mean\n",
    "imputer = SimpleImputer(strategy='mean')\n",
    "X_imputed = imputer.fit_transform(X)  # Returns a NumPy array\n",
    "\n",
    "# Create and train the logistic regression model\n",
    "model = LogisticRegression(solver='lbfgs', C=500.0)\n",
    "model.fit(X_imputed, y)\n",
    "\n",
    "# Predictions and performance evaluation\n",
    "y_pred = model.predict(X_imputed)\n",
    "accuracy = accuracy_score(y, y_pred)\n",
    "conf_matrix = confusion_matrix(y, y_pred)\n",
    "\n",
    "# Print results\n",
    "print(\"Model Accuracy:\", accuracy)\n",
    "print(\"Confusion Matrix:\\n\", conf_matrix)"
   ]
  }
 ],
 "metadata": {
  "kernelspec": {
   "display_name": "Python 3 (ipykernel)",
   "language": "python",
   "name": "python3"
  },
  "language_info": {
   "codemirror_mode": {
    "name": "ipython",
    "version": 3
   },
   "file_extension": ".py",
   "mimetype": "text/x-python",
   "name": "python",
   "nbconvert_exporter": "python",
   "pygments_lexer": "ipython3",
   "version": "3.12.7"
  },
  "latex_envs": {
   "LaTeX_envs_menu_present": true,
   "autoclose": true,
   "autocomplete": true,
   "bibliofile": "biblio.bib",
   "cite_by": "apalike",
   "current_citInitial": 1,
   "eqLabelWithNumbers": true,
   "eqNumInitial": 1,
   "hotkeys": {
    "equation": "Ctrl-E",
    "itemize": "Ctrl-I"
   },
   "labels_anchors": false,
   "latex_user_defs": false,
   "report_style_numbering": false,
   "user_envs_cfg": false
  },
  "toc": {
   "base_numbering": 1,
   "nav_menu": {},
   "number_sections": true,
   "sideBar": true,
   "skip_h1_title": false,
   "title_cell": "Table of Contents",
   "title_sidebar": "Contents",
   "toc_cell": false,
   "toc_position": {},
   "toc_section_display": true,
   "toc_window_display": true
  },
  "varInspector": {
   "cols": {
    "lenName": 16,
    "lenType": 16,
    "lenVar": 40
   },
   "kernels_config": {
    "python": {
     "delete_cmd_postfix": "",
     "delete_cmd_prefix": "del ",
     "library": "var_list.py",
     "varRefreshCmd": "print(var_dic_list())"
    },
    "r": {
     "delete_cmd_postfix": ") ",
     "delete_cmd_prefix": "rm(",
     "library": "var_list.r",
     "varRefreshCmd": "cat(var_dic_list()) "
    }
   },
   "types_to_exclude": [
    "module",
    "function",
    "builtin_function_or_method",
    "instance",
    "_Feature"
   ],
   "window_display": false
  }
 },
 "nbformat": 4,
 "nbformat_minor": 4
}
